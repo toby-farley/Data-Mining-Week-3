{
 "cells": [
  {
   "cell_type": "code",
   "execution_count": 88,
   "id": "b29c3e66-fe24-449d-a514-f57cded42f48",
   "metadata": {},
   "outputs": [
    {
     "data": {
      "text/plain": [
       "Plots.GRBackend()"
      ]
     },
     "execution_count": 88,
     "metadata": {},
     "output_type": "execute_result"
    }
   ],
   "source": [
    "using CSV\n",
    "using DataFrames\n",
    "using PairPlots\n",
    "using CairoMakie\n",
    "using StatsPlots\n",
    "using Chain\n",
    "using Statistics\n",
    "gr()"
   ]
  },
  {
   "cell_type": "code",
   "execution_count": 89,
   "id": "ae17a472-8bd3-418a-9730-78296aea96ea",
   "metadata": {
    "scrolled": true
   },
   "outputs": [
    {
     "data": {
      "text/html": [
       "<div><div style = \"float: left;\"><span>5×15 DataFrame</span></div><div style = \"clear: both;\"></div></div><div class = \"data-frame\" style = \"overflow-x: scroll;\"><table class = \"data-frame\" style = \"margin-bottom: 6px;\"><thead><tr class = \"header\"><th class = \"rowNumber\" style = \"font-weight: bold; text-align: right;\">Row</th><th style = \"text-align: left;\">age</th><th style = \"text-align: left;\">workclass</th><th style = \"text-align: left;\">fnlwgt</th><th style = \"text-align: left;\">education</th><th style = \"text-align: left;\">education-num</th><th style = \"text-align: left;\">marital-status</th><th style = \"text-align: left;\">occupation</th><th style = \"text-align: left;\">relationship</th><th style = \"text-align: left;\">race:</th><th style = \"text-align: left;\">sex</th><th style = \"text-align: left;\">capital-gain</th><th style = \"text-align: left;\">capital-loss</th><th style = \"text-align: left;\">hours-per-week</th><th style = \"text-align: left;\">native-country</th><th style = \"text-align: left;\">class</th></tr><tr class = \"subheader headerLastRow\"><th class = \"rowNumber\" style = \"font-weight: bold; text-align: right;\"></th><th title = \"Int64\" style = \"text-align: left;\">Int64</th><th title = \"String31\" style = \"text-align: left;\">String31</th><th title = \"Int64\" style = \"text-align: left;\">Int64</th><th title = \"String15\" style = \"text-align: left;\">String15</th><th title = \"Int64\" style = \"text-align: left;\">Int64</th><th title = \"String31\" style = \"text-align: left;\">String31</th><th title = \"String31\" style = \"text-align: left;\">String31</th><th title = \"String15\" style = \"text-align: left;\">String15</th><th title = \"String31\" style = \"text-align: left;\">String31</th><th title = \"String7\" style = \"text-align: left;\">String7</th><th title = \"Int64\" style = \"text-align: left;\">Int64</th><th title = \"Int64\" style = \"text-align: left;\">Int64</th><th title = \"Int64\" style = \"text-align: left;\">Int64</th><th title = \"String31\" style = \"text-align: left;\">String31</th><th title = \"String7\" style = \"text-align: left;\">String7</th></tr></thead><tbody><tr><td class = \"rowNumber\" style = \"font-weight: bold; text-align: right;\">1</td><td style = \"text-align: right;\">25</td><td style = \"text-align: left;\">Private</td><td style = \"text-align: right;\">226802</td><td style = \"text-align: left;\">11th</td><td style = \"text-align: right;\">7</td><td style = \"text-align: left;\">Never-married</td><td style = \"text-align: left;\">Machine-op-inspct</td><td style = \"text-align: left;\">Own-child</td><td style = \"text-align: left;\">Black</td><td style = \"text-align: left;\">Male</td><td style = \"text-align: right;\">0</td><td style = \"text-align: right;\">0</td><td style = \"text-align: right;\">40</td><td style = \"text-align: left;\">United-States</td><td style = \"text-align: left;\">&lt;=50K</td></tr><tr><td class = \"rowNumber\" style = \"font-weight: bold; text-align: right;\">2</td><td style = \"text-align: right;\">38</td><td style = \"text-align: left;\">Private</td><td style = \"text-align: right;\">89814</td><td style = \"text-align: left;\">HS-grad</td><td style = \"text-align: right;\">9</td><td style = \"text-align: left;\">Married-civ-spouse</td><td style = \"text-align: left;\">Farming-fishing</td><td style = \"text-align: left;\">Husband</td><td style = \"text-align: left;\">White</td><td style = \"text-align: left;\">Male</td><td style = \"text-align: right;\">0</td><td style = \"text-align: right;\">0</td><td style = \"text-align: right;\">50</td><td style = \"text-align: left;\">United-States</td><td style = \"text-align: left;\">&lt;=50K</td></tr><tr><td class = \"rowNumber\" style = \"font-weight: bold; text-align: right;\">3</td><td style = \"text-align: right;\">28</td><td style = \"text-align: left;\">Local-gov</td><td style = \"text-align: right;\">336951</td><td style = \"text-align: left;\">Assoc-acdm</td><td style = \"text-align: right;\">12</td><td style = \"text-align: left;\">Married-civ-spouse</td><td style = \"text-align: left;\">Protective-serv</td><td style = \"text-align: left;\">Husband</td><td style = \"text-align: left;\">White</td><td style = \"text-align: left;\">Male</td><td style = \"text-align: right;\">0</td><td style = \"text-align: right;\">0</td><td style = \"text-align: right;\">40</td><td style = \"text-align: left;\">United-States</td><td style = \"text-align: left;\">&gt;50K</td></tr><tr><td class = \"rowNumber\" style = \"font-weight: bold; text-align: right;\">4</td><td style = \"text-align: right;\">44</td><td style = \"text-align: left;\">Private</td><td style = \"text-align: right;\">160323</td><td style = \"text-align: left;\">Some-college</td><td style = \"text-align: right;\">10</td><td style = \"text-align: left;\">Married-civ-spouse</td><td style = \"text-align: left;\">Machine-op-inspct</td><td style = \"text-align: left;\">Husband</td><td style = \"text-align: left;\">Black</td><td style = \"text-align: left;\">Male</td><td style = \"text-align: right;\">7688</td><td style = \"text-align: right;\">0</td><td style = \"text-align: right;\">40</td><td style = \"text-align: left;\">United-States</td><td style = \"text-align: left;\">&gt;50K</td></tr><tr><td class = \"rowNumber\" style = \"font-weight: bold; text-align: right;\">5</td><td style = \"text-align: right;\">18</td><td style = \"text-align: left;\">?</td><td style = \"text-align: right;\">103497</td><td style = \"text-align: left;\">Some-college</td><td style = \"text-align: right;\">10</td><td style = \"text-align: left;\">Never-married</td><td style = \"text-align: left;\">?</td><td style = \"text-align: left;\">Own-child</td><td style = \"text-align: left;\">White</td><td style = \"text-align: left;\">Female</td><td style = \"text-align: right;\">0</td><td style = \"text-align: right;\">0</td><td style = \"text-align: right;\">30</td><td style = \"text-align: left;\">United-States</td><td style = \"text-align: left;\">&lt;=50K</td></tr></tbody></table></div>"
      ],
      "text/latex": [
       "\\begin{tabular}{r|cccccccc}\n",
       "\t& age & workclass & fnlwgt & education & education-num & marital-status & occupation & \\\\\n",
       "\t\\hline\n",
       "\t& Int64 & String31 & Int64 & String15 & Int64 & String31 & String31 & \\\\\n",
       "\t\\hline\n",
       "\t1 & 25 & Private & 226802 & 11th & 7 & Never-married & Machine-op-inspct & $\\dots$ \\\\\n",
       "\t2 & 38 & Private & 89814 & HS-grad & 9 & Married-civ-spouse & Farming-fishing & $\\dots$ \\\\\n",
       "\t3 & 28 & Local-gov & 336951 & Assoc-acdm & 12 & Married-civ-spouse & Protective-serv & $\\dots$ \\\\\n",
       "\t4 & 44 & Private & 160323 & Some-college & 10 & Married-civ-spouse & Machine-op-inspct & $\\dots$ \\\\\n",
       "\t5 & 18 & ? & 103497 & Some-college & 10 & Never-married & ? & $\\dots$ \\\\\n",
       "\\end{tabular}\n"
      ],
      "text/plain": [
       "\u001b[1m5×15 DataFrame\u001b[0m\n",
       "\u001b[1m Row \u001b[0m│\u001b[1m age   \u001b[0m\u001b[1m workclass \u001b[0m\u001b[1m fnlwgt \u001b[0m\u001b[1m education    \u001b[0m\u001b[1m education-num \u001b[0m\u001b[1m marital-status  \u001b[0m ⋯\n",
       "     │\u001b[90m Int64 \u001b[0m\u001b[90m String31  \u001b[0m\u001b[90m Int64  \u001b[0m\u001b[90m String15     \u001b[0m\u001b[90m Int64         \u001b[0m\u001b[90m String31        \u001b[0m ⋯\n",
       "─────┼──────────────────────────────────────────────────────────────────────────\n",
       "   1 │    25  Private    226802  11th                      7  Never-married    ⋯\n",
       "   2 │    38  Private     89814  HS-grad                   9  Married-civ-spou\n",
       "   3 │    28  Local-gov  336951  Assoc-acdm               12  Married-civ-spou\n",
       "   4 │    44  Private    160323  Some-college             10  Married-civ-spou\n",
       "   5 │    18  ?          103497  Some-college             10  Never-married    ⋯\n",
       "\u001b[36m                                                              10 columns omitted\u001b[0m"
      ]
     },
     "execution_count": 89,
     "metadata": {},
     "output_type": "execute_result"
    }
   ],
   "source": [
    "df = DataFrame(CSV.File(\"Adult.csv\"))\n",
    "nrows(d"
   ]
  },
  {
   "cell_type": "code",
   "execution_count": 9,
   "id": "2c5ed8a4-5801-4dd2-964b-76c722dae216",
   "metadata": {},
   "outputs": [
    {
     "data": {
      "text/html": [
       "<div><div style = \"float: left;\"><span>DataFrameRow (16 columns)</span></div><div style = \"clear: both;\"></div></div><div class = \"data-frame\" style = \"overflow-x: scroll;\"><table class = \"data-frame\" style = \"margin-bottom: 6px;\"><thead><tr class = \"header\"><th class = \"rowLabel\" style = \"font-weight: bold; text-align: right;\">Row</th><th style = \"text-align: left;\">age</th><th style = \"text-align: left;\">workclass</th><th style = \"text-align: left;\">fnlwgt:</th><th style = \"text-align: left;\">education:</th><th style = \"text-align: left;\">education-num:</th><th style = \"text-align: left;\">occupation:</th><th style = \"text-align: left;\">relationship:</th><th style = \"text-align: left;\">race:</th><th style = \"text-align: left;\">sex:</th><th style = \"text-align: left;\">capital-gain:</th><th style = \"text-align: left;\">capital-loss:</th><th style = \"text-align: left;\">hours-per-week:</th><th style = \"text-align: left;\">native-country:</th><th style = \"text-align: left;\">class</th><th style = \"text-align: left;\">variable</th><th style = \"text-align: left;\">value</th></tr><tr class = \"subheader headerLastRow\"><th class = \"rowLabel\" style = \"font-weight: bold; text-align: right;\"></th><th title = \"Int64\" style = \"text-align: left;\">Int64</th><th title = \"String31\" style = \"text-align: left;\">String31</th><th title = \"Int64\" style = \"text-align: left;\">Int64</th><th title = \"String15\" style = \"text-align: left;\">String15</th><th title = \"Int64\" style = \"text-align: left;\">Int64</th><th title = \"String31\" style = \"text-align: left;\">String31</th><th title = \"String15\" style = \"text-align: left;\">String15</th><th title = \"String31\" style = \"text-align: left;\">String31</th><th title = \"String7\" style = \"text-align: left;\">String7</th><th title = \"Int64\" style = \"text-align: left;\">Int64</th><th title = \"Int64\" style = \"text-align: left;\">Int64</th><th title = \"Int64\" style = \"text-align: left;\">Int64</th><th title = \"String31\" style = \"text-align: left;\">String31</th><th title = \"String7\" style = \"text-align: left;\">String7</th><th title = \"String\" style = \"text-align: left;\">String</th><th title = \"String31\" style = \"text-align: left;\">String31</th></tr></thead><tbody><tr><td class = \"rowLabel\" style = \"font-weight: bold; text-align: right;\">1</td><td style = \"text-align: right;\">39</td><td style = \"text-align: left;\">State-gov</td><td style = \"text-align: right;\">77516</td><td style = \"text-align: left;\">Bachelors</td><td style = \"text-align: right;\">13</td><td style = \"text-align: left;\">Adm-clerical</td><td style = \"text-align: left;\">Not-in-family</td><td style = \"text-align: left;\">White</td><td style = \"text-align: left;\">Male</td><td style = \"text-align: right;\">2174</td><td style = \"text-align: right;\">0</td><td style = \"text-align: right;\">40</td><td style = \"text-align: left;\">United-States</td><td style = \"text-align: left;\">&lt;=50K</td><td style = \"text-align: left;\">marital-status:</td><td style = \"text-align: left;\">Never-married</td></tr></tbody></table></div>"
      ],
      "text/latex": [
       "\\begin{tabular}{r|cccccccc}\n",
       "\t& age & workclass & fnlwgt: & education: & education-num: & occupation: & relationship: & \\\\\n",
       "\t\\hline\n",
       "\t& Int64 & String31 & Int64 & String15 & Int64 & String31 & String15 & \\\\\n",
       "\t\\hline\n",
       "\t1 & 39 & State-gov & 77516 & Bachelors & 13 & Adm-clerical & Not-in-family & $\\dots$ \\\\\n",
       "\\end{tabular}\n"
      ],
      "text/plain": [
       "\u001b[1mDataFrameRow\u001b[0m\n",
       "\u001b[1m Row \u001b[0m│\u001b[1m age   \u001b[0m\u001b[1m workclass \u001b[0m\u001b[1m fnlwgt: \u001b[0m\u001b[1m education: \u001b[0m\u001b[1m education-num: \u001b[0m\u001b[1m occupation:  \u001b[0m\u001b[1m re\u001b[0m ⋯\n",
       "     │\u001b[90m Int64 \u001b[0m\u001b[90m String31  \u001b[0m\u001b[90m Int64   \u001b[0m\u001b[90m String15   \u001b[0m\u001b[90m Int64          \u001b[0m\u001b[90m String31     \u001b[0m\u001b[90m St\u001b[0m ⋯\n",
       "─────┼──────────────────────────────────────────────────────────────────────────\n",
       "   1 │    39  State-gov    77516  Bachelors               13  Adm-clerical  No ⋯\n",
       "\u001b[36m                                                              10 columns omitted\u001b[0m"
      ]
     },
     "execution_count": 9,
     "metadata": {},
     "output_type": "execute_result"
    }
   ],
   "source": [
    "first(stack(df, [:\"marital-status:\"]))"
   ]
  },
  {
   "cell_type": "code",
   "execution_count": 10,
   "id": "f69fe896-6a34-4567-8af7-4e282ed71871",
   "metadata": {},
   "outputs": [
    {
     "data": {
      "text/html": [
       "<div><div style = \"float: left;\"><span>15×7 DataFrame</span></div><div style = \"clear: both;\"></div></div><div class = \"data-frame\" style = \"overflow-x: scroll;\"><table class = \"data-frame\" style = \"margin-bottom: 6px;\"><thead><tr class = \"header\"><th class = \"rowNumber\" style = \"font-weight: bold; text-align: right;\">Row</th><th style = \"text-align: left;\">variable</th><th style = \"text-align: left;\">mean</th><th style = \"text-align: left;\">min</th><th style = \"text-align: left;\">median</th><th style = \"text-align: left;\">max</th><th style = \"text-align: left;\">nmissing</th><th style = \"text-align: left;\">eltype</th></tr><tr class = \"subheader headerLastRow\"><th class = \"rowNumber\" style = \"font-weight: bold; text-align: right;\"></th><th title = \"Symbol\" style = \"text-align: left;\">Symbol</th><th title = \"Union{Nothing, Float64}\" style = \"text-align: left;\">Union…</th><th title = \"Any\" style = \"text-align: left;\">Any</th><th title = \"Union{Nothing, Float64}\" style = \"text-align: left;\">Union…</th><th title = \"Any\" style = \"text-align: left;\">Any</th><th title = \"Int64\" style = \"text-align: left;\">Int64</th><th title = \"DataType\" style = \"text-align: left;\">DataType</th></tr></thead><tbody><tr><td class = \"rowNumber\" style = \"font-weight: bold; text-align: right;\">1</td><td style = \"text-align: left;\">age</td><td style = \"text-align: left;\">38.5816</td><td style = \"text-align: left;\">17</td><td style = \"text-align: left;\">37.0</td><td style = \"text-align: left;\">90</td><td style = \"text-align: right;\">0</td><td style = \"text-align: left;\">Int64</td></tr><tr><td class = \"rowNumber\" style = \"font-weight: bold; text-align: right;\">2</td><td style = \"text-align: left;\">workclass</td><td style = \"font-style: italic; text-align: left;\"></td><td style = \"text-align: left;\">?</td><td style = \"font-style: italic; text-align: left;\"></td><td style = \"text-align: left;\">Without-pay</td><td style = \"text-align: right;\">0</td><td style = \"text-align: left;\">String31</td></tr><tr><td class = \"rowNumber\" style = \"font-weight: bold; text-align: right;\">3</td><td style = \"text-align: left;\">fnlwgt:</td><td style = \"text-align: left;\">1.89778e5</td><td style = \"text-align: left;\">12285</td><td style = \"text-align: left;\">178356.0</td><td style = \"text-align: left;\">1484705</td><td style = \"text-align: right;\">0</td><td style = \"text-align: left;\">Int64</td></tr><tr><td class = \"rowNumber\" style = \"font-weight: bold; text-align: right;\">4</td><td style = \"text-align: left;\">education:</td><td style = \"font-style: italic; text-align: left;\"></td><td style = \"text-align: left;\">10th</td><td style = \"font-style: italic; text-align: left;\"></td><td style = \"text-align: left;\">Some-college</td><td style = \"text-align: right;\">0</td><td style = \"text-align: left;\">String15</td></tr><tr><td class = \"rowNumber\" style = \"font-weight: bold; text-align: right;\">5</td><td style = \"text-align: left;\">education-num:</td><td style = \"text-align: left;\">10.0807</td><td style = \"text-align: left;\">1</td><td style = \"text-align: left;\">10.0</td><td style = \"text-align: left;\">16</td><td style = \"text-align: right;\">0</td><td style = \"text-align: left;\">Int64</td></tr><tr><td class = \"rowNumber\" style = \"font-weight: bold; text-align: right;\">6</td><td style = \"text-align: left;\">marital-status:</td><td style = \"font-style: italic; text-align: left;\"></td><td style = \"text-align: left;\">Divorced</td><td style = \"font-style: italic; text-align: left;\"></td><td style = \"text-align: left;\">Widowed</td><td style = \"text-align: right;\">0</td><td style = \"text-align: left;\">String31</td></tr><tr><td class = \"rowNumber\" style = \"font-weight: bold; text-align: right;\">7</td><td style = \"text-align: left;\">occupation:</td><td style = \"font-style: italic; text-align: left;\"></td><td style = \"text-align: left;\">?</td><td style = \"font-style: italic; text-align: left;\"></td><td style = \"text-align: left;\">Transport-moving</td><td style = \"text-align: right;\">0</td><td style = \"text-align: left;\">String31</td></tr><tr><td class = \"rowNumber\" style = \"font-weight: bold; text-align: right;\">8</td><td style = \"text-align: left;\">relationship:</td><td style = \"font-style: italic; text-align: left;\"></td><td style = \"text-align: left;\">Husband</td><td style = \"font-style: italic; text-align: left;\"></td><td style = \"text-align: left;\">Wife</td><td style = \"text-align: right;\">0</td><td style = \"text-align: left;\">String15</td></tr><tr><td class = \"rowNumber\" style = \"font-weight: bold; text-align: right;\">9</td><td style = \"text-align: left;\">race:</td><td style = \"font-style: italic; text-align: left;\"></td><td style = \"text-align: left;\">Amer-Indian-Eskimo</td><td style = \"font-style: italic; text-align: left;\"></td><td style = \"text-align: left;\">White</td><td style = \"text-align: right;\">0</td><td style = \"text-align: left;\">String31</td></tr><tr><td class = \"rowNumber\" style = \"font-weight: bold; text-align: right;\">10</td><td style = \"text-align: left;\">sex:</td><td style = \"font-style: italic; text-align: left;\"></td><td style = \"text-align: left;\">Female</td><td style = \"font-style: italic; text-align: left;\"></td><td style = \"text-align: left;\">Male</td><td style = \"text-align: right;\">0</td><td style = \"text-align: left;\">String7</td></tr><tr><td class = \"rowNumber\" style = \"font-weight: bold; text-align: right;\">11</td><td style = \"text-align: left;\">capital-gain:</td><td style = \"text-align: left;\">1077.65</td><td style = \"text-align: left;\">0</td><td style = \"text-align: left;\">0.0</td><td style = \"text-align: left;\">99999</td><td style = \"text-align: right;\">0</td><td style = \"text-align: left;\">Int64</td></tr><tr><td class = \"rowNumber\" style = \"font-weight: bold; text-align: right;\">12</td><td style = \"text-align: left;\">capital-loss:</td><td style = \"text-align: left;\">87.3038</td><td style = \"text-align: left;\">0</td><td style = \"text-align: left;\">0.0</td><td style = \"text-align: left;\">4356</td><td style = \"text-align: right;\">0</td><td style = \"text-align: left;\">Int64</td></tr><tr><td class = \"rowNumber\" style = \"font-weight: bold; text-align: right;\">13</td><td style = \"text-align: left;\">hours-per-week:</td><td style = \"text-align: left;\">40.4375</td><td style = \"text-align: left;\">1</td><td style = \"text-align: left;\">40.0</td><td style = \"text-align: left;\">99</td><td style = \"text-align: right;\">0</td><td style = \"text-align: left;\">Int64</td></tr><tr><td class = \"rowNumber\" style = \"font-weight: bold; text-align: right;\">14</td><td style = \"text-align: left;\">native-country:</td><td style = \"font-style: italic; text-align: left;\"></td><td style = \"text-align: left;\">?</td><td style = \"font-style: italic; text-align: left;\"></td><td style = \"text-align: left;\">Yugoslavia</td><td style = \"text-align: right;\">0</td><td style = \"text-align: left;\">String31</td></tr><tr><td class = \"rowNumber\" style = \"font-weight: bold; text-align: right;\">15</td><td style = \"text-align: left;\">class</td><td style = \"font-style: italic; text-align: left;\"></td><td style = \"text-align: left;\">&lt;=50K</td><td style = \"font-style: italic; text-align: left;\"></td><td style = \"text-align: left;\">&gt;50K</td><td style = \"text-align: right;\">0</td><td style = \"text-align: left;\">String7</td></tr></tbody></table></div>"
      ],
      "text/latex": [
       "\\begin{tabular}{r|ccccccc}\n",
       "\t& variable & mean & min & median & max & nmissing & \\\\\n",
       "\t\\hline\n",
       "\t& Symbol & Union… & Any & Union… & Any & Int64 & \\\\\n",
       "\t\\hline\n",
       "\t1 & age & 38.5816 & 17 & 37.0 & 90 & 0 & $\\dots$ \\\\\n",
       "\t2 & workclass &  & ? &  & Without-pay & 0 & $\\dots$ \\\\\n",
       "\t3 & fnlwgt: & 1.89778e5 & 12285 & 178356.0 & 1484705 & 0 & $\\dots$ \\\\\n",
       "\t4 & education: &  & 10th &  & Some-college & 0 & $\\dots$ \\\\\n",
       "\t5 & education-num: & 10.0807 & 1 & 10.0 & 16 & 0 & $\\dots$ \\\\\n",
       "\t6 & marital-status: &  & Divorced &  & Widowed & 0 & $\\dots$ \\\\\n",
       "\t7 & occupation: &  & ? &  & Transport-moving & 0 & $\\dots$ \\\\\n",
       "\t8 & relationship: &  & Husband &  & Wife & 0 & $\\dots$ \\\\\n",
       "\t9 & race: &  & Amer-Indian-Eskimo &  & White & 0 & $\\dots$ \\\\\n",
       "\t10 & sex: &  & Female &  & Male & 0 & $\\dots$ \\\\\n",
       "\t11 & capital-gain: & 1077.65 & 0 & 0.0 & 99999 & 0 & $\\dots$ \\\\\n",
       "\t12 & capital-loss: & 87.3038 & 0 & 0.0 & 4356 & 0 & $\\dots$ \\\\\n",
       "\t13 & hours-per-week: & 40.4375 & 1 & 40.0 & 99 & 0 & $\\dots$ \\\\\n",
       "\t14 & native-country: &  & ? &  & Yugoslavia & 0 & $\\dots$ \\\\\n",
       "\t15 & class &  & <=50K &  & >50K & 0 & $\\dots$ \\\\\n",
       "\\end{tabular}\n"
      ],
      "text/plain": [
       "\u001b[1m15×7 DataFrame\u001b[0m\n",
       "\u001b[1m Row \u001b[0m│\u001b[1m variable        \u001b[0m\u001b[1m mean      \u001b[0m\u001b[1m min                \u001b[0m\u001b[1m median   \u001b[0m\u001b[1m max          \u001b[0m ⋯\n",
       "     │\u001b[90m Symbol          \u001b[0m\u001b[90m Union…    \u001b[0m\u001b[90m Any                \u001b[0m\u001b[90m Union…   \u001b[0m\u001b[90m Any          \u001b[0m ⋯\n",
       "─────┼──────────────────────────────────────────────────────────────────────────\n",
       "   1 │ age              38.5816    17                  37.0      90            ⋯\n",
       "   2 │ workclass       \u001b[90m           \u001b[0m ?                  \u001b[90m          \u001b[0m Without-pay\n",
       "   3 │ fnlwgt:          1.89778e5  12285               178356.0  1484705\n",
       "   4 │ education:      \u001b[90m           \u001b[0m 10th               \u001b[90m          \u001b[0m Some-college\n",
       "   5 │ education-num:   10.0807    1                   10.0      16            ⋯\n",
       "   6 │ marital-status: \u001b[90m           \u001b[0m Divorced           \u001b[90m          \u001b[0m Widowed\n",
       "   7 │ occupation:     \u001b[90m           \u001b[0m ?                  \u001b[90m          \u001b[0m Transport-mov\n",
       "   8 │ relationship:   \u001b[90m           \u001b[0m Husband            \u001b[90m          \u001b[0m Wife\n",
       "   9 │ race:           \u001b[90m           \u001b[0m Amer-Indian-Eskimo \u001b[90m          \u001b[0m White         ⋯\n",
       "  10 │ sex:            \u001b[90m           \u001b[0m Female             \u001b[90m          \u001b[0m Male\n",
       "  11 │ capital-gain:    1077.65    0                   0.0       99999\n",
       "  12 │ capital-loss:    87.3038    0                   0.0       4356\n",
       "  13 │ hours-per-week:  40.4375    1                   40.0      99            ⋯\n",
       "  14 │ native-country: \u001b[90m           \u001b[0m ?                  \u001b[90m          \u001b[0m Yugoslavia\n",
       "  15 │ class           \u001b[90m           \u001b[0m <=50K              \u001b[90m          \u001b[0m >50K\n",
       "\u001b[36m                                                               3 columns omitted\u001b[0m"
      ]
     },
     "execution_count": 10,
     "metadata": {},
     "output_type": "execute_result"
    }
   ],
   "source": [
    "describe(df)"
   ]
  },
  {
   "cell_type": "code",
   "execution_count": 11,
   "id": "6d55aec7-68b4-4acc-91b2-73643c96ef17",
   "metadata": {},
   "outputs": [
    {
     "data": {
      "text/html": [
       "<div><div style = \"float: left;\"><span>5×15 DataFrame</span></div><div style = \"clear: both;\"></div></div><div class = \"data-frame\" style = \"overflow-x: scroll;\"><table class = \"data-frame\" style = \"margin-bottom: 6px;\"><thead><tr class = \"header\"><th class = \"rowNumber\" style = \"font-weight: bold; text-align: right;\">Row</th><th style = \"text-align: left;\">age</th><th style = \"text-align: left;\">workclass</th><th style = \"text-align: left;\">fnlwgt:</th><th style = \"text-align: left;\">education:</th><th style = \"text-align: left;\">education-num:</th><th style = \"text-align: left;\">marital-status:</th><th style = \"text-align: left;\">occupation:</th><th style = \"text-align: left;\">relationship:</th><th style = \"text-align: left;\">race:</th><th style = \"text-align: left;\">sex:</th><th style = \"text-align: left;\">capital-gain:</th><th style = \"text-align: left;\">capital-loss:</th><th style = \"text-align: left;\">hours-per-week:</th><th style = \"text-align: left;\">native-country:</th><th style = \"text-align: left;\">class</th></tr><tr class = \"subheader headerLastRow\"><th class = \"rowNumber\" style = \"font-weight: bold; text-align: right;\"></th><th title = \"Int64\" style = \"text-align: left;\">Int64</th><th title = \"String31\" style = \"text-align: left;\">String31</th><th title = \"Int64\" style = \"text-align: left;\">Int64</th><th title = \"String15\" style = \"text-align: left;\">String15</th><th title = \"Int64\" style = \"text-align: left;\">Int64</th><th title = \"String31\" style = \"text-align: left;\">String31</th><th title = \"String31\" style = \"text-align: left;\">String31</th><th title = \"String15\" style = \"text-align: left;\">String15</th><th title = \"String31\" style = \"text-align: left;\">String31</th><th title = \"String7\" style = \"text-align: left;\">String7</th><th title = \"Int64\" style = \"text-align: left;\">Int64</th><th title = \"Int64\" style = \"text-align: left;\">Int64</th><th title = \"Int64\" style = \"text-align: left;\">Int64</th><th title = \"String31\" style = \"text-align: left;\">String31</th><th title = \"String7\" style = \"text-align: left;\">String7</th></tr></thead><tbody><tr><td class = \"rowNumber\" style = \"font-weight: bold; text-align: right;\">1</td><td style = \"text-align: right;\">28</td><td style = \"text-align: left;\">Private</td><td style = \"text-align: right;\">338409</td><td style = \"text-align: left;\">Bachelors</td><td style = \"text-align: right;\">13</td><td style = \"text-align: left;\">Married-civ-spouse</td><td style = \"text-align: left;\">Prof-specialty</td><td style = \"text-align: left;\">Wife</td><td style = \"text-align: left;\">Black</td><td style = \"text-align: left;\">Female</td><td style = \"text-align: right;\">0</td><td style = \"text-align: right;\">0</td><td style = \"text-align: right;\">40</td><td style = \"text-align: left;\">Cuba</td><td style = \"text-align: left;\">&lt;=50K</td></tr><tr><td class = \"rowNumber\" style = \"font-weight: bold; text-align: right;\">2</td><td style = \"text-align: right;\">37</td><td style = \"text-align: left;\">Private</td><td style = \"text-align: right;\">284582</td><td style = \"text-align: left;\">Masters</td><td style = \"text-align: right;\">14</td><td style = \"text-align: left;\">Married-civ-spouse</td><td style = \"text-align: left;\">Exec-managerial</td><td style = \"text-align: left;\">Wife</td><td style = \"text-align: left;\">White</td><td style = \"text-align: left;\">Female</td><td style = \"text-align: right;\">0</td><td style = \"text-align: right;\">0</td><td style = \"text-align: right;\">40</td><td style = \"text-align: left;\">United-States</td><td style = \"text-align: left;\">&lt;=50K</td></tr><tr><td class = \"rowNumber\" style = \"font-weight: bold; text-align: right;\">3</td><td style = \"text-align: right;\">49</td><td style = \"text-align: left;\">Private</td><td style = \"text-align: right;\">160187</td><td style = \"text-align: left;\">9th</td><td style = \"text-align: right;\">5</td><td style = \"text-align: left;\">Married-spouse-absent</td><td style = \"text-align: left;\">Other-service</td><td style = \"text-align: left;\">Not-in-family</td><td style = \"text-align: left;\">Black</td><td style = \"text-align: left;\">Female</td><td style = \"text-align: right;\">0</td><td style = \"text-align: right;\">0</td><td style = \"text-align: right;\">16</td><td style = \"text-align: left;\">Jamaica</td><td style = \"text-align: left;\">&lt;=50K</td></tr><tr><td class = \"rowNumber\" style = \"font-weight: bold; text-align: right;\">4</td><td style = \"text-align: right;\">31</td><td style = \"text-align: left;\">Private</td><td style = \"text-align: right;\">45781</td><td style = \"text-align: left;\">Masters</td><td style = \"text-align: right;\">14</td><td style = \"text-align: left;\">Never-married</td><td style = \"text-align: left;\">Prof-specialty</td><td style = \"text-align: left;\">Not-in-family</td><td style = \"text-align: left;\">White</td><td style = \"text-align: left;\">Female</td><td style = \"text-align: right;\">14084</td><td style = \"text-align: right;\">0</td><td style = \"text-align: right;\">50</td><td style = \"text-align: left;\">United-States</td><td style = \"text-align: left;\">&gt;50K</td></tr><tr><td class = \"rowNumber\" style = \"font-weight: bold; text-align: right;\">5</td><td style = \"text-align: right;\">23</td><td style = \"text-align: left;\">Private</td><td style = \"text-align: right;\">122272</td><td style = \"text-align: left;\">Bachelors</td><td style = \"text-align: right;\">13</td><td style = \"text-align: left;\">Never-married</td><td style = \"text-align: left;\">Adm-clerical</td><td style = \"text-align: left;\">Own-child</td><td style = \"text-align: left;\">White</td><td style = \"text-align: left;\">Female</td><td style = \"text-align: right;\">0</td><td style = \"text-align: right;\">0</td><td style = \"text-align: right;\">30</td><td style = \"text-align: left;\">United-States</td><td style = \"text-align: left;\">&lt;=50K</td></tr></tbody></table></div>"
      ],
      "text/latex": [
       "\\begin{tabular}{r|cccccccc}\n",
       "\t& age & workclass & fnlwgt: & education: & education-num: & marital-status: & occupation: & \\\\\n",
       "\t\\hline\n",
       "\t& Int64 & String31 & Int64 & String15 & Int64 & String31 & String31 & \\\\\n",
       "\t\\hline\n",
       "\t1 & 28 & Private & 338409 & Bachelors & 13 & Married-civ-spouse & Prof-specialty & $\\dots$ \\\\\n",
       "\t2 & 37 & Private & 284582 & Masters & 14 & Married-civ-spouse & Exec-managerial & $\\dots$ \\\\\n",
       "\t3 & 49 & Private & 160187 & 9th & 5 & Married-spouse-absent & Other-service & $\\dots$ \\\\\n",
       "\t4 & 31 & Private & 45781 & Masters & 14 & Never-married & Prof-specialty & $\\dots$ \\\\\n",
       "\t5 & 23 & Private & 122272 & Bachelors & 13 & Never-married & Adm-clerical & $\\dots$ \\\\\n",
       "\\end{tabular}\n"
      ],
      "text/plain": [
       "\u001b[1m5×15 DataFrame\u001b[0m\n",
       "\u001b[1m Row \u001b[0m│\u001b[1m age   \u001b[0m\u001b[1m workclass \u001b[0m\u001b[1m fnlwgt: \u001b[0m\u001b[1m education: \u001b[0m\u001b[1m education-num: \u001b[0m\u001b[1m marital-status: \u001b[0m ⋯\n",
       "     │\u001b[90m Int64 \u001b[0m\u001b[90m String31  \u001b[0m\u001b[90m Int64   \u001b[0m\u001b[90m String15   \u001b[0m\u001b[90m Int64          \u001b[0m\u001b[90m String31        \u001b[0m ⋯\n",
       "─────┼──────────────────────────────────────────────────────────────────────────\n",
       "   1 │    28  Private     338409  Bachelors               13  Married-civ-spou ⋯\n",
       "   2 │    37  Private     284582  Masters                 14  Married-civ-spou\n",
       "   3 │    49  Private     160187  9th                      5  Married-spouse-a\n",
       "   4 │    31  Private      45781  Masters                 14  Never-married\n",
       "   5 │    23  Private     122272  Bachelors               13  Never-married    ⋯\n",
       "\u001b[36m                                                              10 columns omitted\u001b[0m"
      ]
     },
     "execution_count": 11,
     "metadata": {},
     "output_type": "execute_result"
    }
   ],
   "source": [
    "first(subset(df, :\"sex:\" => x -> x .== \"Female\"),5)"
   ]
  },
  {
   "cell_type": "code",
   "execution_count": 13,
   "id": "d8d35830-e28b-4ec3-9ab6-c556be34227c",
   "metadata": {},
   "outputs": [
    {
     "data": {
      "text/plain": [
       "32561-element PooledArrays.PooledVector{String31, UInt32, Vector{UInt32}}:\n",
       " \"State-gov\"\n",
       " \"Self-emp-not-inc\"\n",
       " \"Private\"\n",
       " \"Private\"\n",
       " \"Private\"\n",
       " \"Private\"\n",
       " \"Private\"\n",
       " \"Self-emp-not-inc\"\n",
       " \"Private\"\n",
       " \"Private\"\n",
       " \"Private\"\n",
       " \"State-gov\"\n",
       " \"Private\"\n",
       " ⋮\n",
       " \"State-gov\"\n",
       " \"Self-emp-not-inc\"\n",
       " \"Private\"\n",
       " \"Private\"\n",
       " \"Private\"\n",
       " \"Private\"\n",
       " \"Private\"\n",
       " \"Private\"\n",
       " \"Private\"\n",
       " \"Private\"\n",
       " \"Private\"\n",
       " \"Self-emp-inc\""
      ]
     },
     "execution_count": 13,
     "metadata": {},
     "output_type": "execute_result"
    }
   ],
   "source": [
    "temp = df.workclass"
   ]
  },
  {
   "cell_type": "code",
   "execution_count": 16,
   "id": "d66c933d-5ce2-44be-bad5-8edbbc97c726",
   "metadata": {},
   "outputs": [
    {
     "data": {
      "text/plain": [
       "\"N/A\""
      ]
     },
     "execution_count": 16,
     "metadata": {},
     "output_type": "execute_result"
    }
   ],
   "source": [
    "temp[1] = \"N/A\""
   ]
  },
  {
   "cell_type": "code",
   "execution_count": 17,
   "id": "7d0b8384-0449-43e1-98e9-861cf5e1cec5",
   "metadata": {},
   "outputs": [
    {
     "data": {
      "text/html": [
       "<div><div style = \"float: left;\"><span>1×15 DataFrame</span></div><div style = \"clear: both;\"></div></div><div class = \"data-frame\" style = \"overflow-x: scroll;\"><table class = \"data-frame\" style = \"margin-bottom: 6px;\"><thead><tr class = \"header\"><th class = \"rowNumber\" style = \"font-weight: bold; text-align: right;\">Row</th><th style = \"text-align: left;\">age</th><th style = \"text-align: left;\">workclass</th><th style = \"text-align: left;\">fnlwgt:</th><th style = \"text-align: left;\">education:</th><th style = \"text-align: left;\">education-num:</th><th style = \"text-align: left;\">marital-status:</th><th style = \"text-align: left;\">occupation:</th><th style = \"text-align: left;\">relationship:</th><th style = \"text-align: left;\">race:</th><th style = \"text-align: left;\">sex:</th><th style = \"text-align: left;\">capital-gain:</th><th style = \"text-align: left;\">capital-loss:</th><th style = \"text-align: left;\">hours-per-week:</th><th style = \"text-align: left;\">native-country:</th><th style = \"text-align: left;\">class</th></tr><tr class = \"subheader headerLastRow\"><th class = \"rowNumber\" style = \"font-weight: bold; text-align: right;\"></th><th title = \"Int64\" style = \"text-align: left;\">Int64</th><th title = \"String31\" style = \"text-align: left;\">String31</th><th title = \"Int64\" style = \"text-align: left;\">Int64</th><th title = \"String15\" style = \"text-align: left;\">String15</th><th title = \"Int64\" style = \"text-align: left;\">Int64</th><th title = \"String31\" style = \"text-align: left;\">String31</th><th title = \"String31\" style = \"text-align: left;\">String31</th><th title = \"String15\" style = \"text-align: left;\">String15</th><th title = \"String31\" style = \"text-align: left;\">String31</th><th title = \"String7\" style = \"text-align: left;\">String7</th><th title = \"Int64\" style = \"text-align: left;\">Int64</th><th title = \"Int64\" style = \"text-align: left;\">Int64</th><th title = \"Int64\" style = \"text-align: left;\">Int64</th><th title = \"String31\" style = \"text-align: left;\">String31</th><th title = \"String7\" style = \"text-align: left;\">String7</th></tr></thead><tbody><tr><td class = \"rowNumber\" style = \"font-weight: bold; text-align: right;\">1</td><td style = \"text-align: right;\">39</td><td style = \"text-align: left;\">N/A</td><td style = \"text-align: right;\">77516</td><td style = \"text-align: left;\">Bachelors</td><td style = \"text-align: right;\">13</td><td style = \"text-align: left;\">Never-married</td><td style = \"text-align: left;\">Adm-clerical</td><td style = \"text-align: left;\">Not-in-family</td><td style = \"text-align: left;\">White</td><td style = \"text-align: left;\">Male</td><td style = \"text-align: right;\">2174</td><td style = \"text-align: right;\">0</td><td style = \"text-align: right;\">40</td><td style = \"text-align: left;\">United-States</td><td style = \"text-align: left;\">&lt;=50K</td></tr></tbody></table></div>"
      ],
      "text/latex": [
       "\\begin{tabular}{r|cccccccc}\n",
       "\t& age & workclass & fnlwgt: & education: & education-num: & marital-status: & occupation: & \\\\\n",
       "\t\\hline\n",
       "\t& Int64 & String31 & Int64 & String15 & Int64 & String31 & String31 & \\\\\n",
       "\t\\hline\n",
       "\t1 & 39 & N/A & 77516 & Bachelors & 13 & Never-married & Adm-clerical & $\\dots$ \\\\\n",
       "\\end{tabular}\n"
      ],
      "text/plain": [
       "\u001b[1m1×15 DataFrame\u001b[0m\n",
       "\u001b[1m Row \u001b[0m│\u001b[1m age   \u001b[0m\u001b[1m workclass \u001b[0m\u001b[1m fnlwgt: \u001b[0m\u001b[1m education: \u001b[0m\u001b[1m education-num: \u001b[0m\u001b[1m marital-status: \u001b[0m\u001b[1m\u001b[0m ⋯\n",
       "     │\u001b[90m Int64 \u001b[0m\u001b[90m String31  \u001b[0m\u001b[90m Int64   \u001b[0m\u001b[90m String15   \u001b[0m\u001b[90m Int64          \u001b[0m\u001b[90m String31        \u001b[0m\u001b[90m\u001b[0m ⋯\n",
       "─────┼──────────────────────────────────────────────────────────────────────────\n",
       "   1 │    39  N/A          77516  Bachelors               13  Never-married    ⋯\n",
       "\u001b[36m                                                               9 columns omitted\u001b[0m"
      ]
     },
     "execution_count": 17,
     "metadata": {},
     "output_type": "execute_result"
    }
   ],
   "source": [
    "first(df,1)"
   ]
  },
  {
   "cell_type": "code",
   "execution_count": 18,
   "id": "83e63f3c-7607-4ee5-97bd-9399ad967c2b",
   "metadata": {},
   "outputs": [
    {
     "data": {
      "text/plain": [
       "9-element Vector{String}:\n",
       " \"workclass\"\n",
       " \"education:\"\n",
       " \"marital-status:\"\n",
       " \"occupation:\"\n",
       " \"relationship:\"\n",
       " \"race:\"\n",
       " \"sex:\"\n",
       " \"native-country:\"\n",
       " \"class\""
      ]
     },
     "execution_count": 18,
     "metadata": {},
     "output_type": "execute_result"
    }
   ],
   "source": [
    "names(df, AbstractString)"
   ]
  },
  {
   "cell_type": "code",
   "execution_count": 19,
   "id": "560822b2-da24-498a-ad53-0f63ae6b323e",
   "metadata": {},
   "outputs": [
    {
     "data": {
      "text/plain": [
       "15-element Vector{Symbol}:\n",
       " :age\n",
       " :workclass\n",
       " Symbol(\"fnlwgt:\")\n",
       " Symbol(\"education:\")\n",
       " Symbol(\"education-num:\")\n",
       " Symbol(\"marital-status:\")\n",
       " Symbol(\"occupation:\")\n",
       " Symbol(\"relationship:\")\n",
       " Symbol(\"race:\")\n",
       " Symbol(\"sex:\")\n",
       " Symbol(\"capital-gain:\")\n",
       " Symbol(\"capital-loss:\")\n",
       " Symbol(\"hours-per-week:\")\n",
       " Symbol(\"native-country:\")\n",
       " :class"
      ]
     },
     "execution_count": 19,
     "metadata": {},
     "output_type": "execute_result"
    }
   ],
   "source": [
    "propertynames(df)"
   ]
  },
  {
   "cell_type": "code",
   "execution_count": 21,
   "id": "a57114e5-c3a6-46df-b2c7-b645c44fd280",
   "metadata": {},
   "outputs": [
    {
     "data": {
      "text/plain": [
       "15-element Vector{DataType}:\n",
       " Int64\n",
       " String31\n",
       " Int64\n",
       " String15\n",
       " Int64\n",
       " String31\n",
       " String31\n",
       " String15\n",
       " String31\n",
       " String7\n",
       " Int64\n",
       " Int64\n",
       " Int64\n",
       " String31\n",
       " String7"
      ]
     },
     "execution_count": 21,
     "metadata": {},
     "output_type": "execute_result"
    }
   ],
   "source": [
    "eltype.(eachcol(df))"
   ]
  },
  {
   "cell_type": "code",
   "execution_count": 22,
   "id": "3a09e08e-0bdb-44c8-8f4b-bbfe78207711",
   "metadata": {},
   "outputs": [
    {
     "data": {
      "text/plain": [
       "(32561, 15)"
      ]
     },
     "execution_count": 22,
     "metadata": {},
     "output_type": "execute_result"
    }
   ],
   "source": [
    "size(df)"
   ]
  },
  {
   "cell_type": "code",
   "execution_count": 23,
   "id": "4024ede4-65ff-4b93-8a6c-f01411784cb5",
   "metadata": {},
   "outputs": [
    {
     "data": {
      "text/plain": [
       "32561"
      ]
     },
     "execution_count": 23,
     "metadata": {},
     "output_type": "execute_result"
    }
   ],
   "source": [
    "nrow(df)"
   ]
  },
  {
   "cell_type": "code",
   "execution_count": 24,
   "id": "c2eac687-5ab4-49af-9dec-dd2321b078db",
   "metadata": {},
   "outputs": [
    {
     "data": {
      "text/plain": [
       "15"
      ]
     },
     "execution_count": 24,
     "metadata": {},
     "output_type": "execute_result"
    }
   ],
   "source": [
    "ncol(df)"
   ]
  },
  {
   "cell_type": "code",
   "execution_count": 27,
   "id": "297841f7-14a5-4970-b4dd-e3a48724ebdb",
   "metadata": {},
   "outputs": [
    {
     "data": {
      "text/html": [
       "<div><div style = \"float: left;\"><span>4×7 DataFrame</span></div><div style = \"clear: both;\"></div></div><div class = \"data-frame\" style = \"overflow-x: scroll;\"><table class = \"data-frame\" style = \"margin-bottom: 6px;\"><thead><tr class = \"header\"><th class = \"rowNumber\" style = \"font-weight: bold; text-align: right;\">Row</th><th style = \"text-align: left;\">variable</th><th style = \"text-align: left;\">mean</th><th style = \"text-align: left;\">min</th><th style = \"text-align: left;\">median</th><th style = \"text-align: left;\">max</th><th style = \"text-align: left;\">nmissing</th><th style = \"text-align: left;\">eltype</th></tr><tr class = \"subheader headerLastRow\"><th class = \"rowNumber\" style = \"font-weight: bold; text-align: right;\"></th><th title = \"Symbol\" style = \"text-align: left;\">Symbol</th><th title = \"Union{Nothing, Float64}\" style = \"text-align: left;\">Union…</th><th title = \"Any\" style = \"text-align: left;\">Any</th><th title = \"Union{Nothing, Float64}\" style = \"text-align: left;\">Union…</th><th title = \"Any\" style = \"text-align: left;\">Any</th><th title = \"Int64\" style = \"text-align: left;\">Int64</th><th title = \"DataType\" style = \"text-align: left;\">DataType</th></tr></thead><tbody><tr><td class = \"rowNumber\" style = \"font-weight: bold; text-align: right;\">1</td><td style = \"text-align: left;\">age</td><td style = \"text-align: left;\">38.5816</td><td style = \"text-align: left;\">17</td><td style = \"text-align: left;\">37.0</td><td style = \"text-align: left;\">90</td><td style = \"text-align: right;\">0</td><td style = \"text-align: left;\">Int64</td></tr><tr><td class = \"rowNumber\" style = \"font-weight: bold; text-align: right;\">2</td><td style = \"text-align: left;\">fnlwgt:</td><td style = \"text-align: left;\">1.89778e5</td><td style = \"text-align: left;\">12285</td><td style = \"text-align: left;\">178356.0</td><td style = \"text-align: left;\">1484705</td><td style = \"text-align: right;\">0</td><td style = \"text-align: left;\">Int64</td></tr><tr><td class = \"rowNumber\" style = \"font-weight: bold; text-align: right;\">3</td><td style = \"text-align: left;\">education-num:</td><td style = \"text-align: left;\">10.0807</td><td style = \"text-align: left;\">1</td><td style = \"text-align: left;\">10.0</td><td style = \"text-align: left;\">16</td><td style = \"text-align: right;\">0</td><td style = \"text-align: left;\">Int64</td></tr><tr><td class = \"rowNumber\" style = \"font-weight: bold; text-align: right;\">4</td><td style = \"text-align: left;\">occupation:</td><td style = \"font-style: italic; text-align: left;\"></td><td style = \"text-align: left;\">?</td><td style = \"font-style: italic; text-align: left;\"></td><td style = \"text-align: left;\">Transport-moving</td><td style = \"text-align: right;\">0</td><td style = \"text-align: left;\">String31</td></tr></tbody></table></div>"
      ],
      "text/latex": [
       "\\begin{tabular}{r|ccccccc}\n",
       "\t& variable & mean & min & median & max & nmissing & eltype\\\\\n",
       "\t\\hline\n",
       "\t& Symbol & Union… & Any & Union… & Any & Int64 & DataType\\\\\n",
       "\t\\hline\n",
       "\t1 & age & 38.5816 & 17 & 37.0 & 90 & 0 & Int64 \\\\\n",
       "\t2 & fnlwgt: & 1.89778e5 & 12285 & 178356.0 & 1484705 & 0 & Int64 \\\\\n",
       "\t3 & education-num: & 10.0807 & 1 & 10.0 & 16 & 0 & Int64 \\\\\n",
       "\t4 & occupation: &  & ? &  & Transport-moving & 0 & String31 \\\\\n",
       "\\end{tabular}\n"
      ],
      "text/plain": [
       "\u001b[1m4×7 DataFrame\u001b[0m\n",
       "\u001b[1m Row \u001b[0m│\u001b[1m variable       \u001b[0m\u001b[1m mean      \u001b[0m\u001b[1m min   \u001b[0m\u001b[1m median   \u001b[0m\u001b[1m max              \u001b[0m\u001b[1m nmissing \u001b[0m\u001b[1m\u001b[0m ⋯\n",
       "     │\u001b[90m Symbol         \u001b[0m\u001b[90m Union…    \u001b[0m\u001b[90m Any   \u001b[0m\u001b[90m Union…   \u001b[0m\u001b[90m Any              \u001b[0m\u001b[90m Int64    \u001b[0m\u001b[90m\u001b[0m ⋯\n",
       "─────┼──────────────────────────────────────────────────────────────────────────\n",
       "   1 │ age             38.5816    17     37.0      90                       0  ⋯\n",
       "   2 │ fnlwgt:         1.89778e5  12285  178356.0  1484705                  0\n",
       "   3 │ education-num:  10.0807    1      10.0      16                       0\n",
       "   4 │ occupation:    \u001b[90m           \u001b[0m ?     \u001b[90m          \u001b[0m Transport-moving         0\n",
       "\u001b[36m                                                                1 column omitted\u001b[0m"
      ]
     },
     "execution_count": 27,
     "metadata": {},
     "output_type": "execute_result"
    }
   ],
   "source": [
    "describe(df, cols=[1,3,5,7])"
   ]
  },
  {
   "cell_type": "code",
   "execution_count": 30,
   "id": "4d2be946-03dc-48e7-83c8-16e9a13ce47c",
   "metadata": {},
   "outputs": [
    {
     "data": {
      "text/plain": [
       "38.58164675532078"
      ]
     },
     "execution_count": 30,
     "metadata": {},
     "output_type": "execute_result"
    }
   ],
   "source": [
    "mean(df.age)"
   ]
  },
  {
   "cell_type": "code",
   "execution_count": 32,
   "id": "11336568-35e5-4725-907f-d14efa74b45a",
   "metadata": {},
   "outputs": [
    {
     "data": {
      "text/plain": [
       "37.0"
      ]
     },
     "execution_count": 32,
     "metadata": {},
     "output_type": "execute_result"
    }
   ],
   "source": [
    "median(df.age)"
   ]
  },
  {
   "cell_type": "code",
   "execution_count": 33,
   "id": "6a2a6af7-bf45-4d30-86ed-d63633fb13a6",
   "metadata": {},
   "outputs": [
    {
     "data": {
      "text/html": [
       "<div><div style = \"float: left;\"><span>5×15 DataFrame</span></div><div style = \"clear: both;\"></div></div><div class = \"data-frame\" style = \"overflow-x: scroll;\"><table class = \"data-frame\" style = \"margin-bottom: 6px;\"><thead><tr class = \"header\"><th class = \"rowNumber\" style = \"font-weight: bold; text-align: right;\">Row</th><th style = \"text-align: left;\">age</th><th style = \"text-align: left;\">workclass</th><th style = \"text-align: left;\">fnlwgt:</th><th style = \"text-align: left;\">education:</th><th style = \"text-align: left;\">education-num:</th><th style = \"text-align: left;\">marital-status:</th><th style = \"text-align: left;\">occupation:</th><th style = \"text-align: left;\">relationship:</th><th style = \"text-align: left;\">race:</th><th style = \"text-align: left;\">sex:</th><th style = \"text-align: left;\">capital-gain:</th><th style = \"text-align: left;\">capital-loss:</th><th style = \"text-align: left;\">hours-per-week:</th><th style = \"text-align: left;\">native-country:</th><th style = \"text-align: left;\">class</th></tr><tr class = \"subheader headerLastRow\"><th class = \"rowNumber\" style = \"font-weight: bold; text-align: right;\"></th><th title = \"Int64\" style = \"text-align: left;\">Int64</th><th title = \"String31\" style = \"text-align: left;\">String31</th><th title = \"Int64\" style = \"text-align: left;\">Int64</th><th title = \"String15\" style = \"text-align: left;\">String15</th><th title = \"Int64\" style = \"text-align: left;\">Int64</th><th title = \"String31\" style = \"text-align: left;\">String31</th><th title = \"String31\" style = \"text-align: left;\">String31</th><th title = \"String15\" style = \"text-align: left;\">String15</th><th title = \"String31\" style = \"text-align: left;\">String31</th><th title = \"String7\" style = \"text-align: left;\">String7</th><th title = \"Int64\" style = \"text-align: left;\">Int64</th><th title = \"Int64\" style = \"text-align: left;\">Int64</th><th title = \"Int64\" style = \"text-align: left;\">Int64</th><th title = \"String31\" style = \"text-align: left;\">String31</th><th title = \"String7\" style = \"text-align: left;\">String7</th></tr></thead><tbody><tr><td class = \"rowNumber\" style = \"font-weight: bold; text-align: right;\">1</td><td style = \"text-align: right;\">27</td><td style = \"text-align: left;\">Private</td><td style = \"text-align: right;\">257302</td><td style = \"text-align: left;\">Assoc-acdm</td><td style = \"text-align: right;\">12</td><td style = \"text-align: left;\">Married-civ-spouse</td><td style = \"text-align: left;\">Tech-support</td><td style = \"text-align: left;\">Wife</td><td style = \"text-align: left;\">White</td><td style = \"text-align: left;\">Female</td><td style = \"text-align: right;\">0</td><td style = \"text-align: right;\">0</td><td style = \"text-align: right;\">38</td><td style = \"text-align: left;\">United-States</td><td style = \"text-align: left;\">&lt;=50K</td></tr><tr><td class = \"rowNumber\" style = \"font-weight: bold; text-align: right;\">2</td><td style = \"text-align: right;\">40</td><td style = \"text-align: left;\">Private</td><td style = \"text-align: right;\">154374</td><td style = \"text-align: left;\">HS-grad</td><td style = \"text-align: right;\">9</td><td style = \"text-align: left;\">Married-civ-spouse</td><td style = \"text-align: left;\">Machine-op-inspct</td><td style = \"text-align: left;\">Husband</td><td style = \"text-align: left;\">White</td><td style = \"text-align: left;\">Male</td><td style = \"text-align: right;\">0</td><td style = \"text-align: right;\">0</td><td style = \"text-align: right;\">40</td><td style = \"text-align: left;\">United-States</td><td style = \"text-align: left;\">&gt;50K</td></tr><tr><td class = \"rowNumber\" style = \"font-weight: bold; text-align: right;\">3</td><td style = \"text-align: right;\">58</td><td style = \"text-align: left;\">Private</td><td style = \"text-align: right;\">151910</td><td style = \"text-align: left;\">HS-grad</td><td style = \"text-align: right;\">9</td><td style = \"text-align: left;\">Widowed</td><td style = \"text-align: left;\">Adm-clerical</td><td style = \"text-align: left;\">Unmarried</td><td style = \"text-align: left;\">White</td><td style = \"text-align: left;\">Female</td><td style = \"text-align: right;\">0</td><td style = \"text-align: right;\">0</td><td style = \"text-align: right;\">40</td><td style = \"text-align: left;\">United-States</td><td style = \"text-align: left;\">&lt;=50K</td></tr><tr><td class = \"rowNumber\" style = \"font-weight: bold; text-align: right;\">4</td><td style = \"text-align: right;\">22</td><td style = \"text-align: left;\">Private</td><td style = \"text-align: right;\">201490</td><td style = \"text-align: left;\">HS-grad</td><td style = \"text-align: right;\">9</td><td style = \"text-align: left;\">Never-married</td><td style = \"text-align: left;\">Adm-clerical</td><td style = \"text-align: left;\">Own-child</td><td style = \"text-align: left;\">White</td><td style = \"text-align: left;\">Male</td><td style = \"text-align: right;\">0</td><td style = \"text-align: right;\">0</td><td style = \"text-align: right;\">20</td><td style = \"text-align: left;\">United-States</td><td style = \"text-align: left;\">&lt;=50K</td></tr><tr><td class = \"rowNumber\" style = \"font-weight: bold; text-align: right;\">5</td><td style = \"text-align: right;\">52</td><td style = \"text-align: left;\">Self-emp-inc</td><td style = \"text-align: right;\">287927</td><td style = \"text-align: left;\">HS-grad</td><td style = \"text-align: right;\">9</td><td style = \"text-align: left;\">Married-civ-spouse</td><td style = \"text-align: left;\">Exec-managerial</td><td style = \"text-align: left;\">Wife</td><td style = \"text-align: left;\">White</td><td style = \"text-align: left;\">Female</td><td style = \"text-align: right;\">15024</td><td style = \"text-align: right;\">0</td><td style = \"text-align: right;\">40</td><td style = \"text-align: left;\">United-States</td><td style = \"text-align: left;\">&gt;50K</td></tr></tbody></table></div>"
      ],
      "text/latex": [
       "\\begin{tabular}{r|cccccccc}\n",
       "\t& age & workclass & fnlwgt: & education: & education-num: & marital-status: & occupation: & \\\\\n",
       "\t\\hline\n",
       "\t& Int64 & String31 & Int64 & String15 & Int64 & String31 & String31 & \\\\\n",
       "\t\\hline\n",
       "\t1 & 27 & Private & 257302 & Assoc-acdm & 12 & Married-civ-spouse & Tech-support & $\\dots$ \\\\\n",
       "\t2 & 40 & Private & 154374 & HS-grad & 9 & Married-civ-spouse & Machine-op-inspct & $\\dots$ \\\\\n",
       "\t3 & 58 & Private & 151910 & HS-grad & 9 & Widowed & Adm-clerical & $\\dots$ \\\\\n",
       "\t4 & 22 & Private & 201490 & HS-grad & 9 & Never-married & Adm-clerical & $\\dots$ \\\\\n",
       "\t5 & 52 & Self-emp-inc & 287927 & HS-grad & 9 & Married-civ-spouse & Exec-managerial & $\\dots$ \\\\\n",
       "\\end{tabular}\n"
      ],
      "text/plain": [
       "\u001b[1m5×15 DataFrame\u001b[0m\n",
       "\u001b[1m Row \u001b[0m│\u001b[1m age   \u001b[0m\u001b[1m workclass    \u001b[0m\u001b[1m fnlwgt: \u001b[0m\u001b[1m education: \u001b[0m\u001b[1m education-num: \u001b[0m\u001b[1m marital-statu\u001b[0m ⋯\n",
       "     │\u001b[90m Int64 \u001b[0m\u001b[90m String31     \u001b[0m\u001b[90m Int64   \u001b[0m\u001b[90m String15   \u001b[0m\u001b[90m Int64          \u001b[0m\u001b[90m String31     \u001b[0m ⋯\n",
       "─────┼──────────────────────────────────────────────────────────────────────────\n",
       "   1 │    27  Private        257302  Assoc-acdm              12  Married-civ-s ⋯\n",
       "   2 │    40  Private        154374  HS-grad                  9  Married-civ-s\n",
       "   3 │    58  Private        151910  HS-grad                  9  Widowed\n",
       "   4 │    22  Private        201490  HS-grad                  9  Never-married\n",
       "   5 │    52  Self-emp-inc   287927  HS-grad                  9  Married-civ-s ⋯\n",
       "\u001b[36m                                                              10 columns omitted\u001b[0m"
      ]
     },
     "execution_count": 33,
     "metadata": {},
     "output_type": "execute_result"
    }
   ],
   "source": [
    "last(df,5)"
   ]
  },
  {
   "cell_type": "code",
   "execution_count": 40,
   "id": "4e5265b2-8156-4498-862b-cf039cbd748d",
   "metadata": {},
   "outputs": [
    {
     "data": {
      "text/html": [
       "<div><div style = \"float: left;\"><span>5×2 DataFrame</span></div><div style = \"clear: both;\"></div></div><div class = \"data-frame\" style = \"overflow-x: scroll;\"><table class = \"data-frame\" style = \"margin-bottom: 6px;\"><thead><tr class = \"header\"><th class = \"rowNumber\" style = \"font-weight: bold; text-align: right;\">Row</th><th style = \"text-align: left;\">age</th><th style = \"text-align: left;\">class</th></tr><tr class = \"subheader headerLastRow\"><th class = \"rowNumber\" style = \"font-weight: bold; text-align: right;\"></th><th title = \"Int64\" style = \"text-align: left;\">Int64</th><th title = \"String7\" style = \"text-align: left;\">String7</th></tr></thead><tbody><tr><td class = \"rowNumber\" style = \"font-weight: bold; text-align: right;\">1</td><td style = \"text-align: right;\">39</td><td style = \"text-align: left;\">&lt;=50K</td></tr><tr><td class = \"rowNumber\" style = \"font-weight: bold; text-align: right;\">2</td><td style = \"text-align: right;\">50</td><td style = \"text-align: left;\">&lt;=50K</td></tr><tr><td class = \"rowNumber\" style = \"font-weight: bold; text-align: right;\">3</td><td style = \"text-align: right;\">38</td><td style = \"text-align: left;\">&lt;=50K</td></tr><tr><td class = \"rowNumber\" style = \"font-weight: bold; text-align: right;\">4</td><td style = \"text-align: right;\">53</td><td style = \"text-align: left;\">&lt;=50K</td></tr><tr><td class = \"rowNumber\" style = \"font-weight: bold; text-align: right;\">5</td><td style = \"text-align: right;\">28</td><td style = \"text-align: left;\">&lt;=50K</td></tr></tbody></table></div>"
      ],
      "text/latex": [
       "\\begin{tabular}{r|cc}\n",
       "\t& age & class\\\\\n",
       "\t\\hline\n",
       "\t& Int64 & String7\\\\\n",
       "\t\\hline\n",
       "\t1 & 39 & <=50K \\\\\n",
       "\t2 & 50 & <=50K \\\\\n",
       "\t3 & 38 & <=50K \\\\\n",
       "\t4 & 53 & <=50K \\\\\n",
       "\t5 & 28 & <=50K \\\\\n",
       "\\end{tabular}\n"
      ],
      "text/plain": [
       "\u001b[1m5×2 DataFrame\u001b[0m\n",
       "\u001b[1m Row \u001b[0m│\u001b[1m age   \u001b[0m\u001b[1m class   \u001b[0m\n",
       "     │\u001b[90m Int64 \u001b[0m\u001b[90m String7 \u001b[0m\n",
       "─────┼────────────────\n",
       "   1 │    39  <=50K\n",
       "   2 │    50  <=50K\n",
       "   3 │    38  <=50K\n",
       "   4 │    53  <=50K\n",
       "   5 │    28  <=50K"
      ]
     },
     "execution_count": 40,
     "metadata": {},
     "output_type": "execute_result"
    }
   ],
   "source": [
    "df[1:5, [:age,:class]]"
   ]
  },
  {
   "cell_type": "code",
   "execution_count": 41,
   "id": "3ed9fe34-0e8e-4919-85ba-64bf5c650cf5",
   "metadata": {},
   "outputs": [
    {
     "data": {
      "text/html": [
       "<div><div style = \"float: left;\"><span>5×15 DataFrame</span></div><div style = \"clear: both;\"></div></div><div class = \"data-frame\" style = \"overflow-x: scroll;\"><table class = \"data-frame\" style = \"margin-bottom: 6px;\"><thead><tr class = \"header\"><th class = \"rowNumber\" style = \"font-weight: bold; text-align: right;\">Row</th><th style = \"text-align: left;\">age</th><th style = \"text-align: left;\">workclass</th><th style = \"text-align: left;\">fnlwgt:</th><th style = \"text-align: left;\">education:</th><th style = \"text-align: left;\">education-num:</th><th style = \"text-align: left;\">marital-status:</th><th style = \"text-align: left;\">occupation:</th><th style = \"text-align: left;\">relationship:</th><th style = \"text-align: left;\">race:</th><th style = \"text-align: left;\">sex:</th><th style = \"text-align: left;\">capital-gain:</th><th style = \"text-align: left;\">capital-loss:</th><th style = \"text-align: left;\">hours-per-week:</th><th style = \"text-align: left;\">native-country:</th><th style = \"text-align: left;\">class</th></tr><tr class = \"subheader headerLastRow\"><th class = \"rowNumber\" style = \"font-weight: bold; text-align: right;\"></th><th title = \"Int64\" style = \"text-align: left;\">Int64</th><th title = \"String31\" style = \"text-align: left;\">String31</th><th title = \"Int64\" style = \"text-align: left;\">Int64</th><th title = \"String15\" style = \"text-align: left;\">String15</th><th title = \"Int64\" style = \"text-align: left;\">Int64</th><th title = \"String31\" style = \"text-align: left;\">String31</th><th title = \"String31\" style = \"text-align: left;\">String31</th><th title = \"String15\" style = \"text-align: left;\">String15</th><th title = \"String31\" style = \"text-align: left;\">String31</th><th title = \"String7\" style = \"text-align: left;\">String7</th><th title = \"Int64\" style = \"text-align: left;\">Int64</th><th title = \"Int64\" style = \"text-align: left;\">Int64</th><th title = \"Int64\" style = \"text-align: left;\">Int64</th><th title = \"String31\" style = \"text-align: left;\">String31</th><th title = \"String7\" style = \"text-align: left;\">String7</th></tr></thead><tbody><tr><td class = \"rowNumber\" style = \"font-weight: bold; text-align: right;\">1</td><td style = \"text-align: right;\">39</td><td style = \"text-align: left;\">N/A</td><td style = \"text-align: right;\">77516</td><td style = \"text-align: left;\">Bachelors</td><td style = \"text-align: right;\">13</td><td style = \"text-align: left;\">Never-married</td><td style = \"text-align: left;\">Adm-clerical</td><td style = \"text-align: left;\">Not-in-family</td><td style = \"text-align: left;\">White</td><td style = \"text-align: left;\">Male</td><td style = \"text-align: right;\">2174</td><td style = \"text-align: right;\">0</td><td style = \"text-align: right;\">40</td><td style = \"text-align: left;\">United-States</td><td style = \"text-align: left;\">&lt;=50K</td></tr><tr><td class = \"rowNumber\" style = \"font-weight: bold; text-align: right;\">2</td><td style = \"text-align: right;\">50</td><td style = \"text-align: left;\">Self-emp-not-inc</td><td style = \"text-align: right;\">83311</td><td style = \"text-align: left;\">Bachelors</td><td style = \"text-align: right;\">13</td><td style = \"text-align: left;\">Married-civ-spouse</td><td style = \"text-align: left;\">Exec-managerial</td><td style = \"text-align: left;\">Husband</td><td style = \"text-align: left;\">White</td><td style = \"text-align: left;\">Male</td><td style = \"text-align: right;\">0</td><td style = \"text-align: right;\">0</td><td style = \"text-align: right;\">13</td><td style = \"text-align: left;\">United-States</td><td style = \"text-align: left;\">&lt;=50K</td></tr><tr><td class = \"rowNumber\" style = \"font-weight: bold; text-align: right;\">3</td><td style = \"text-align: right;\">38</td><td style = \"text-align: left;\">Private</td><td style = \"text-align: right;\">215646</td><td style = \"text-align: left;\">HS-grad</td><td style = \"text-align: right;\">9</td><td style = \"text-align: left;\">Divorced</td><td style = \"text-align: left;\">Handlers-cleaners</td><td style = \"text-align: left;\">Not-in-family</td><td style = \"text-align: left;\">White</td><td style = \"text-align: left;\">Male</td><td style = \"text-align: right;\">0</td><td style = \"text-align: right;\">0</td><td style = \"text-align: right;\">40</td><td style = \"text-align: left;\">United-States</td><td style = \"text-align: left;\">&lt;=50K</td></tr><tr><td class = \"rowNumber\" style = \"font-weight: bold; text-align: right;\">4</td><td style = \"text-align: right;\">53</td><td style = \"text-align: left;\">Private</td><td style = \"text-align: right;\">234721</td><td style = \"text-align: left;\">11th</td><td style = \"text-align: right;\">7</td><td style = \"text-align: left;\">Married-civ-spouse</td><td style = \"text-align: left;\">Handlers-cleaners</td><td style = \"text-align: left;\">Husband</td><td style = \"text-align: left;\">Black</td><td style = \"text-align: left;\">Male</td><td style = \"text-align: right;\">0</td><td style = \"text-align: right;\">0</td><td style = \"text-align: right;\">40</td><td style = \"text-align: left;\">United-States</td><td style = \"text-align: left;\">&lt;=50K</td></tr><tr><td class = \"rowNumber\" style = \"font-weight: bold; text-align: right;\">5</td><td style = \"text-align: right;\">28</td><td style = \"text-align: left;\">Private</td><td style = \"text-align: right;\">338409</td><td style = \"text-align: left;\">Bachelors</td><td style = \"text-align: right;\">13</td><td style = \"text-align: left;\">Married-civ-spouse</td><td style = \"text-align: left;\">Prof-specialty</td><td style = \"text-align: left;\">Wife</td><td style = \"text-align: left;\">Black</td><td style = \"text-align: left;\">Female</td><td style = \"text-align: right;\">0</td><td style = \"text-align: right;\">0</td><td style = \"text-align: right;\">40</td><td style = \"text-align: left;\">Cuba</td><td style = \"text-align: left;\">&lt;=50K</td></tr></tbody></table></div>"
      ],
      "text/latex": [
       "\\begin{tabular}{r|ccccccc}\n",
       "\t& age & workclass & fnlwgt: & education: & education-num: & marital-status: & \\\\\n",
       "\t\\hline\n",
       "\t& Int64 & String31 & Int64 & String15 & Int64 & String31 & \\\\\n",
       "\t\\hline\n",
       "\t1 & 39 & N/A & 77516 & Bachelors & 13 & Never-married & $\\dots$ \\\\\n",
       "\t2 & 50 & Self-emp-not-inc & 83311 & Bachelors & 13 & Married-civ-spouse & $\\dots$ \\\\\n",
       "\t3 & 38 & Private & 215646 & HS-grad & 9 & Divorced & $\\dots$ \\\\\n",
       "\t4 & 53 & Private & 234721 & 11th & 7 & Married-civ-spouse & $\\dots$ \\\\\n",
       "\t5 & 28 & Private & 338409 & Bachelors & 13 & Married-civ-spouse & $\\dots$ \\\\\n",
       "\\end{tabular}\n"
      ],
      "text/plain": [
       "\u001b[1m5×15 DataFrame\u001b[0m\n",
       "\u001b[1m Row \u001b[0m│\u001b[1m age   \u001b[0m\u001b[1m workclass        \u001b[0m\u001b[1m fnlwgt: \u001b[0m\u001b[1m education: \u001b[0m\u001b[1m education-num: \u001b[0m\u001b[1m marital-s\u001b[0m ⋯\n",
       "     │\u001b[90m Int64 \u001b[0m\u001b[90m String31         \u001b[0m\u001b[90m Int64   \u001b[0m\u001b[90m String15   \u001b[0m\u001b[90m Int64          \u001b[0m\u001b[90m String31 \u001b[0m ⋯\n",
       "─────┼──────────────────────────────────────────────────────────────────────────\n",
       "   1 │    39  N/A                 77516  Bachelors               13  Never-mar ⋯\n",
       "   2 │    50  Self-emp-not-inc    83311  Bachelors               13  Married-c\n",
       "   3 │    38  Private            215646  HS-grad                  9  Divorced\n",
       "   4 │    53  Private            234721  11th                     7  Married-c\n",
       "   5 │    28  Private            338409  Bachelors               13  Married-c ⋯\n",
       "\u001b[36m                                                              10 columns omitted\u001b[0m"
      ]
     },
     "execution_count": 41,
     "metadata": {},
     "output_type": "execute_result"
    }
   ],
   "source": [
    "df[1:5,:]"
   ]
  },
  {
   "cell_type": "code",
   "execution_count": 42,
   "id": "421808d9-0215-4f71-ba92-0da38371120f",
   "metadata": {},
   "outputs": [
    {
     "data": {
      "text/html": [
       "<div><div style = \"float: left;\"><span>3×15 DataFrame</span></div><div style = \"clear: both;\"></div></div><div class = \"data-frame\" style = \"overflow-x: scroll;\"><table class = \"data-frame\" style = \"margin-bottom: 6px;\"><thead><tr class = \"header\"><th class = \"rowNumber\" style = \"font-weight: bold; text-align: right;\">Row</th><th style = \"text-align: left;\">age</th><th style = \"text-align: left;\">workclass</th><th style = \"text-align: left;\">fnlwgt:</th><th style = \"text-align: left;\">education:</th><th style = \"text-align: left;\">education-num:</th><th style = \"text-align: left;\">marital-status:</th><th style = \"text-align: left;\">occupation:</th><th style = \"text-align: left;\">relationship:</th><th style = \"text-align: left;\">race:</th><th style = \"text-align: left;\">sex:</th><th style = \"text-align: left;\">capital-gain:</th><th style = \"text-align: left;\">capital-loss:</th><th style = \"text-align: left;\">hours-per-week:</th><th style = \"text-align: left;\">native-country:</th><th style = \"text-align: left;\">class</th></tr><tr class = \"subheader headerLastRow\"><th class = \"rowNumber\" style = \"font-weight: bold; text-align: right;\"></th><th title = \"Int64\" style = \"text-align: left;\">Int64</th><th title = \"String31\" style = \"text-align: left;\">String31</th><th title = \"Int64\" style = \"text-align: left;\">Int64</th><th title = \"String15\" style = \"text-align: left;\">String15</th><th title = \"Int64\" style = \"text-align: left;\">Int64</th><th title = \"String31\" style = \"text-align: left;\">String31</th><th title = \"String31\" style = \"text-align: left;\">String31</th><th title = \"String15\" style = \"text-align: left;\">String15</th><th title = \"String31\" style = \"text-align: left;\">String31</th><th title = \"String7\" style = \"text-align: left;\">String7</th><th title = \"Int64\" style = \"text-align: left;\">Int64</th><th title = \"Int64\" style = \"text-align: left;\">Int64</th><th title = \"Int64\" style = \"text-align: left;\">Int64</th><th title = \"String31\" style = \"text-align: left;\">String31</th><th title = \"String7\" style = \"text-align: left;\">String7</th></tr></thead><tbody><tr><td class = \"rowNumber\" style = \"font-weight: bold; text-align: right;\">1</td><td style = \"text-align: right;\">39</td><td style = \"text-align: left;\">N/A</td><td style = \"text-align: right;\">77516</td><td style = \"text-align: left;\">Bachelors</td><td style = \"text-align: right;\">13</td><td style = \"text-align: left;\">Never-married</td><td style = \"text-align: left;\">Adm-clerical</td><td style = \"text-align: left;\">Not-in-family</td><td style = \"text-align: left;\">White</td><td style = \"text-align: left;\">Male</td><td style = \"text-align: right;\">2174</td><td style = \"text-align: right;\">0</td><td style = \"text-align: right;\">40</td><td style = \"text-align: left;\">United-States</td><td style = \"text-align: left;\">&lt;=50K</td></tr><tr><td class = \"rowNumber\" style = \"font-weight: bold; text-align: right;\">2</td><td style = \"text-align: right;\">37</td><td style = \"text-align: left;\">Private</td><td style = \"text-align: right;\">284582</td><td style = \"text-align: left;\">Masters</td><td style = \"text-align: right;\">14</td><td style = \"text-align: left;\">Married-civ-spouse</td><td style = \"text-align: left;\">Exec-managerial</td><td style = \"text-align: left;\">Wife</td><td style = \"text-align: left;\">White</td><td style = \"text-align: left;\">Female</td><td style = \"text-align: right;\">0</td><td style = \"text-align: right;\">0</td><td style = \"text-align: right;\">40</td><td style = \"text-align: left;\">United-States</td><td style = \"text-align: left;\">&lt;=50K</td></tr><tr><td class = \"rowNumber\" style = \"font-weight: bold; text-align: right;\">3</td><td style = \"text-align: right;\">30</td><td style = \"text-align: left;\">State-gov</td><td style = \"text-align: right;\">141297</td><td style = \"text-align: left;\">Bachelors</td><td style = \"text-align: right;\">13</td><td style = \"text-align: left;\">Married-civ-spouse</td><td style = \"text-align: left;\">Prof-specialty</td><td style = \"text-align: left;\">Husband</td><td style = \"text-align: left;\">Asian-Pac-Islander</td><td style = \"text-align: left;\">Male</td><td style = \"text-align: right;\">0</td><td style = \"text-align: right;\">0</td><td style = \"text-align: right;\">40</td><td style = \"text-align: left;\">India</td><td style = \"text-align: left;\">&gt;50K</td></tr></tbody></table></div>"
      ],
      "text/latex": [
       "\\begin{tabular}{r|cccccccc}\n",
       "\t& age & workclass & fnlwgt: & education: & education-num: & marital-status: & occupation: & \\\\\n",
       "\t\\hline\n",
       "\t& Int64 & String31 & Int64 & String15 & Int64 & String31 & String31 & \\\\\n",
       "\t\\hline\n",
       "\t1 & 39 & N/A & 77516 & Bachelors & 13 & Never-married & Adm-clerical & $\\dots$ \\\\\n",
       "\t2 & 37 & Private & 284582 & Masters & 14 & Married-civ-spouse & Exec-managerial & $\\dots$ \\\\\n",
       "\t3 & 30 & State-gov & 141297 & Bachelors & 13 & Married-civ-spouse & Prof-specialty & $\\dots$ \\\\\n",
       "\\end{tabular}\n"
      ],
      "text/plain": [
       "\u001b[1m3×15 DataFrame\u001b[0m\n",
       "\u001b[1m Row \u001b[0m│\u001b[1m age   \u001b[0m\u001b[1m workclass \u001b[0m\u001b[1m fnlwgt: \u001b[0m\u001b[1m education: \u001b[0m\u001b[1m education-num: \u001b[0m\u001b[1m marital-status: \u001b[0m ⋯\n",
       "     │\u001b[90m Int64 \u001b[0m\u001b[90m String31  \u001b[0m\u001b[90m Int64   \u001b[0m\u001b[90m String15   \u001b[0m\u001b[90m Int64          \u001b[0m\u001b[90m String31        \u001b[0m ⋯\n",
       "─────┼──────────────────────────────────────────────────────────────────────────\n",
       "   1 │    39  N/A          77516  Bachelors               13  Never-married    ⋯\n",
       "   2 │    37  Private     284582  Masters                 14  Married-civ-spou\n",
       "   3 │    30  State-gov   141297  Bachelors               13  Married-civ-spou\n",
       "\u001b[36m                                                              10 columns omitted\u001b[0m"
      ]
     },
     "execution_count": 42,
     "metadata": {},
     "output_type": "execute_result"
    }
   ],
   "source": [
    "df[[1,6,12], :]"
   ]
  },
  {
   "cell_type": "code",
   "execution_count": null,
   "id": "b501dd25-d400-4a68-9bfe-acb8e2d30827",
   "metadata": {},
   "outputs": [],
   "source": [
    "df[:, [:age,:class]]"
   ]
  },
  {
   "cell_type": "code",
   "execution_count": 48,
   "id": "f4f21729-7f14-405d-96f2-68fde99aaac8",
   "metadata": {},
   "outputs": [
    {
     "data": {
      "text/plain": [
       "32561-element Vector{Int64}:\n",
       " 39\n",
       " 50\n",
       " 38\n",
       " 53\n",
       " 28\n",
       " 37\n",
       " 49\n",
       " 52\n",
       " 31\n",
       " 42\n",
       " 37\n",
       " 30\n",
       " 23\n",
       "  ⋮\n",
       " 43\n",
       " 43\n",
       " 32\n",
       " 43\n",
       " 32\n",
       " 53\n",
       " 22\n",
       " 27\n",
       " 40\n",
       " 58\n",
       " 22\n",
       " 52"
      ]
     },
     "execution_count": 48,
     "metadata": {},
     "output_type": "execute_result"
    }
   ],
   "source": [
    "df[!, :age]"
   ]
  },
  {
   "cell_type": "code",
   "execution_count": 81,
   "id": "9b4b7a12-3890-4b18-b0c8-78fc67765dd2",
   "metadata": {},
   "outputs": [],
   "source": [
    "cols = ncol(df)\n",
    "rows = nrow(df)\n",
    "for r = 1:rows\n",
    "    df[r,:\"education:\"] = df[r,:\"education:\"] == \"11th\" ? \"Elevensies\" : df[r,:\"education:\"]\n",
    "end\n",
    "#println(\"--------\")\n",
    "#props = propertynames(df)\n",
    "#for p in props\n",
    "#    print(p)\n",
    "#    print(df[1,p])\n",
    "#end"
   ]
  },
  {
   "cell_type": "code",
   "execution_count": 82,
   "id": "d9fcf1f1-b89d-4ae7-b51d-5c7106eb2dff",
   "metadata": {},
   "outputs": [
    {
     "data": {
      "text/html": [
       "<div><div style = \"float: left;\"><span>5×15 DataFrame</span></div><div style = \"clear: both;\"></div></div><div class = \"data-frame\" style = \"overflow-x: scroll;\"><table class = \"data-frame\" style = \"margin-bottom: 6px;\"><thead><tr class = \"header\"><th class = \"rowNumber\" style = \"font-weight: bold; text-align: right;\">Row</th><th style = \"text-align: left;\">age</th><th style = \"text-align: left;\">workclass</th><th style = \"text-align: left;\">fnlwgt:</th><th style = \"text-align: left;\">education:</th><th style = \"text-align: left;\">education-num:</th><th style = \"text-align: left;\">marital-status:</th><th style = \"text-align: left;\">occupation:</th><th style = \"text-align: left;\">relationship:</th><th style = \"text-align: left;\">race:</th><th style = \"text-align: left;\">sex:</th><th style = \"text-align: left;\">capital-gain:</th><th style = \"text-align: left;\">capital-loss:</th><th style = \"text-align: left;\">hours-per-week:</th><th style = \"text-align: left;\">native-country:</th><th style = \"text-align: left;\">class</th></tr><tr class = \"subheader headerLastRow\"><th class = \"rowNumber\" style = \"font-weight: bold; text-align: right;\"></th><th title = \"Int64\" style = \"text-align: left;\">Int64</th><th title = \"String31\" style = \"text-align: left;\">String31</th><th title = \"Int64\" style = \"text-align: left;\">Int64</th><th title = \"String15\" style = \"text-align: left;\">String15</th><th title = \"Int64\" style = \"text-align: left;\">Int64</th><th title = \"String31\" style = \"text-align: left;\">String31</th><th title = \"String31\" style = \"text-align: left;\">String31</th><th title = \"String15\" style = \"text-align: left;\">String15</th><th title = \"String31\" style = \"text-align: left;\">String31</th><th title = \"String7\" style = \"text-align: left;\">String7</th><th title = \"Int64\" style = \"text-align: left;\">Int64</th><th title = \"Int64\" style = \"text-align: left;\">Int64</th><th title = \"Int64\" style = \"text-align: left;\">Int64</th><th title = \"String31\" style = \"text-align: left;\">String31</th><th title = \"String7\" style = \"text-align: left;\">String7</th></tr></thead><tbody><tr><td class = \"rowNumber\" style = \"font-weight: bold; text-align: right;\">1</td><td style = \"text-align: right;\">39</td><td style = \"text-align: left;\">N/A</td><td style = \"text-align: right;\">77516</td><td style = \"text-align: left;\">Bachelors</td><td style = \"text-align: right;\">13</td><td style = \"text-align: left;\">Never-married</td><td style = \"text-align: left;\">Adm-clerical</td><td style = \"text-align: left;\">Not-in-family</td><td style = \"text-align: left;\">White</td><td style = \"text-align: left;\">Male</td><td style = \"text-align: right;\">1</td><td style = \"text-align: right;\">0</td><td style = \"text-align: right;\">40</td><td style = \"text-align: left;\">United-States</td><td style = \"text-align: left;\">&lt;=50K</td></tr><tr><td class = \"rowNumber\" style = \"font-weight: bold; text-align: right;\">2</td><td style = \"text-align: right;\">50</td><td style = \"text-align: left;\">Self-emp-not-inc</td><td style = \"text-align: right;\">83311</td><td style = \"text-align: left;\">Bachelors</td><td style = \"text-align: right;\">13</td><td style = \"text-align: left;\">Married-civ-spouse</td><td style = \"text-align: left;\">Exec-managerial</td><td style = \"text-align: left;\">Husband</td><td style = \"text-align: left;\">White</td><td style = \"text-align: left;\">Male</td><td style = \"text-align: right;\">1</td><td style = \"text-align: right;\">0</td><td style = \"text-align: right;\">13</td><td style = \"text-align: left;\">United-States</td><td style = \"text-align: left;\">&lt;=50K</td></tr><tr><td class = \"rowNumber\" style = \"font-weight: bold; text-align: right;\">3</td><td style = \"text-align: right;\">38</td><td style = \"text-align: left;\">Private</td><td style = \"text-align: right;\">215646</td><td style = \"text-align: left;\">HS-grad</td><td style = \"text-align: right;\">9</td><td style = \"text-align: left;\">Divorced</td><td style = \"text-align: left;\">Handlers-cleaners</td><td style = \"text-align: left;\">Not-in-family</td><td style = \"text-align: left;\">White</td><td style = \"text-align: left;\">Male</td><td style = \"text-align: right;\">1</td><td style = \"text-align: right;\">0</td><td style = \"text-align: right;\">40</td><td style = \"text-align: left;\">United-States</td><td style = \"text-align: left;\">&lt;=50K</td></tr><tr><td class = \"rowNumber\" style = \"font-weight: bold; text-align: right;\">4</td><td style = \"text-align: right;\">53</td><td style = \"text-align: left;\">Private</td><td style = \"text-align: right;\">234721</td><td style = \"text-align: left;\">Elevensies</td><td style = \"text-align: right;\">7</td><td style = \"text-align: left;\">Married-civ-spouse</td><td style = \"text-align: left;\">Handlers-cleaners</td><td style = \"text-align: left;\">Husband</td><td style = \"text-align: left;\">Black</td><td style = \"text-align: left;\">Male</td><td style = \"text-align: right;\">1</td><td style = \"text-align: right;\">0</td><td style = \"text-align: right;\">40</td><td style = \"text-align: left;\">United-States</td><td style = \"text-align: left;\">&lt;=50K</td></tr><tr><td class = \"rowNumber\" style = \"font-weight: bold; text-align: right;\">5</td><td style = \"text-align: right;\">28</td><td style = \"text-align: left;\">Private</td><td style = \"text-align: right;\">338409</td><td style = \"text-align: left;\">Bachelors</td><td style = \"text-align: right;\">13</td><td style = \"text-align: left;\">Married-civ-spouse</td><td style = \"text-align: left;\">Prof-specialty</td><td style = \"text-align: left;\">Wife</td><td style = \"text-align: left;\">Black</td><td style = \"text-align: left;\">Female</td><td style = \"text-align: right;\">1</td><td style = \"text-align: right;\">0</td><td style = \"text-align: right;\">40</td><td style = \"text-align: left;\">Cuba</td><td style = \"text-align: left;\">&lt;=50K</td></tr></tbody></table></div>"
      ],
      "text/latex": [
       "\\begin{tabular}{r|ccccccc}\n",
       "\t& age & workclass & fnlwgt: & education: & education-num: & marital-status: & \\\\\n",
       "\t\\hline\n",
       "\t& Int64 & String31 & Int64 & String15 & Int64 & String31 & \\\\\n",
       "\t\\hline\n",
       "\t1 & 39 & N/A & 77516 & Bachelors & 13 & Never-married & $\\dots$ \\\\\n",
       "\t2 & 50 & Self-emp-not-inc & 83311 & Bachelors & 13 & Married-civ-spouse & $\\dots$ \\\\\n",
       "\t3 & 38 & Private & 215646 & HS-grad & 9 & Divorced & $\\dots$ \\\\\n",
       "\t4 & 53 & Private & 234721 & Elevensies & 7 & Married-civ-spouse & $\\dots$ \\\\\n",
       "\t5 & 28 & Private & 338409 & Bachelors & 13 & Married-civ-spouse & $\\dots$ \\\\\n",
       "\\end{tabular}\n"
      ],
      "text/plain": [
       "\u001b[1m5×15 DataFrame\u001b[0m\n",
       "\u001b[1m Row \u001b[0m│\u001b[1m age   \u001b[0m\u001b[1m workclass        \u001b[0m\u001b[1m fnlwgt: \u001b[0m\u001b[1m education: \u001b[0m\u001b[1m education-num: \u001b[0m\u001b[1m marital-s\u001b[0m ⋯\n",
       "     │\u001b[90m Int64 \u001b[0m\u001b[90m String31         \u001b[0m\u001b[90m Int64   \u001b[0m\u001b[90m String15   \u001b[0m\u001b[90m Int64          \u001b[0m\u001b[90m String31 \u001b[0m ⋯\n",
       "─────┼──────────────────────────────────────────────────────────────────────────\n",
       "   1 │    39  N/A                 77516  Bachelors               13  Never-mar ⋯\n",
       "   2 │    50  Self-emp-not-inc    83311  Bachelors               13  Married-c\n",
       "   3 │    38  Private            215646  HS-grad                  9  Divorced\n",
       "   4 │    53  Private            234721  Elevensies               7  Married-c\n",
       "   5 │    28  Private            338409  Bachelors               13  Married-c ⋯\n",
       "\u001b[36m                                                              10 columns omitted\u001b[0m"
      ]
     },
     "execution_count": 82,
     "metadata": {},
     "output_type": "execute_result"
    }
   ],
   "source": [
    "first(df,5)"
   ]
  },
  {
   "cell_type": "code",
   "execution_count": null,
   "id": "51fb0e53-6a0d-44f8-84d5-a2cb52e9723c",
   "metadata": {},
   "outputs": [],
   "source": [
    "view(df, :, 2:5)"
   ]
  },
  {
   "cell_type": "code",
   "execution_count": 59,
   "id": "3af0b12a-10bc-42bb-8416-c88f68bd26f2",
   "metadata": {},
   "outputs": [
    {
     "data": {
      "text/html": [
       "<div><div style = \"float: left;\"><span>32561×2 SubDataFrame</span></div><div style = \"float: right;\"><span style = \"font-style: italic;\">32536 rows omitted</span></div><div style = \"clear: both;\"></div></div><div class = \"data-frame\" style = \"overflow-x: scroll;\"><table class = \"data-frame\" style = \"margin-bottom: 6px;\"><thead><tr class = \"header\"><th class = \"rowNumber\" style = \"font-weight: bold; text-align: right;\">Row</th><th style = \"text-align: left;\">age</th><th style = \"text-align: left;\">education:</th></tr><tr class = \"subheader headerLastRow\"><th class = \"rowNumber\" style = \"font-weight: bold; text-align: right;\"></th><th title = \"Int64\" style = \"text-align: left;\">Int64</th><th title = \"String15\" style = \"text-align: left;\">String15</th></tr></thead><tbody><tr><td class = \"rowNumber\" style = \"font-weight: bold; text-align: right;\">1</td><td style = \"text-align: right;\">52</td><td style = \"text-align: left;\">HS-grad</td></tr><tr><td class = \"rowNumber\" style = \"font-weight: bold; text-align: right;\">2</td><td style = \"text-align: right;\">22</td><td style = \"text-align: left;\">HS-grad</td></tr><tr><td class = \"rowNumber\" style = \"font-weight: bold; text-align: right;\">3</td><td style = \"text-align: right;\">58</td><td style = \"text-align: left;\">HS-grad</td></tr><tr><td class = \"rowNumber\" style = \"font-weight: bold; text-align: right;\">4</td><td style = \"text-align: right;\">40</td><td style = \"text-align: left;\">HS-grad</td></tr><tr><td class = \"rowNumber\" style = \"font-weight: bold; text-align: right;\">5</td><td style = \"text-align: right;\">27</td><td style = \"text-align: left;\">Assoc-acdm</td></tr><tr><td class = \"rowNumber\" style = \"font-weight: bold; text-align: right;\">6</td><td style = \"text-align: right;\">22</td><td style = \"text-align: left;\">Some-college</td></tr><tr><td class = \"rowNumber\" style = \"font-weight: bold; text-align: right;\">7</td><td style = \"text-align: right;\">53</td><td style = \"text-align: left;\">Masters</td></tr><tr><td class = \"rowNumber\" style = \"font-weight: bold; text-align: right;\">8</td><td style = \"text-align: right;\">32</td><td style = \"text-align: left;\">Masters</td></tr><tr><td class = \"rowNumber\" style = \"font-weight: bold; text-align: right;\">9</td><td style = \"text-align: right;\">43</td><td style = \"text-align: left;\">Assoc-voc</td></tr><tr><td class = \"rowNumber\" style = \"font-weight: bold; text-align: right;\">10</td><td style = \"text-align: right;\">32</td><td style = \"text-align: left;\">10th</td></tr><tr><td class = \"rowNumber\" style = \"font-weight: bold; text-align: right;\">11</td><td style = \"text-align: right;\">43</td><td style = \"text-align: left;\">Some-college</td></tr><tr><td class = \"rowNumber\" style = \"font-weight: bold; text-align: right;\">12</td><td style = \"text-align: right;\">43</td><td style = \"text-align: left;\">Some-college</td></tr><tr><td class = \"rowNumber\" style = \"font-weight: bold; text-align: right;\">13</td><td style = \"text-align: right;\">65</td><td style = \"text-align: left;\">Prof-school</td></tr><tr><td style = \"text-align: right;\">&vellip;</td><td style = \"text-align: right;\">&vellip;</td><td style = \"text-align: right;\">&vellip;</td></tr><tr><td class = \"rowNumber\" style = \"font-weight: bold; text-align: right;\">32550</td><td style = \"text-align: right;\">30</td><td style = \"text-align: left;\">Bachelors</td></tr><tr><td class = \"rowNumber\" style = \"font-weight: bold; text-align: right;\">32551</td><td style = \"text-align: right;\">37</td><td style = \"text-align: left;\">Some-college</td></tr><tr><td class = \"rowNumber\" style = \"font-weight: bold; text-align: right;\">32552</td><td style = \"text-align: right;\">42</td><td style = \"text-align: left;\">Bachelors</td></tr><tr><td class = \"rowNumber\" style = \"font-weight: bold; text-align: right;\">32553</td><td style = \"text-align: right;\">31</td><td style = \"text-align: left;\">Masters</td></tr><tr><td class = \"rowNumber\" style = \"font-weight: bold; text-align: right;\">32554</td><td style = \"text-align: right;\">52</td><td style = \"text-align: left;\">HS-grad</td></tr><tr><td class = \"rowNumber\" style = \"font-weight: bold; text-align: right;\">32555</td><td style = \"text-align: right;\">49</td><td style = \"text-align: left;\">9th</td></tr><tr><td class = \"rowNumber\" style = \"font-weight: bold; text-align: right;\">32556</td><td style = \"text-align: right;\">37</td><td style = \"text-align: left;\">Masters</td></tr><tr><td class = \"rowNumber\" style = \"font-weight: bold; text-align: right;\">32557</td><td style = \"text-align: right;\">28</td><td style = \"text-align: left;\">Bachelors</td></tr><tr><td class = \"rowNumber\" style = \"font-weight: bold; text-align: right;\">32558</td><td style = \"text-align: right;\">53</td><td style = \"text-align: left;\">11th</td></tr><tr><td class = \"rowNumber\" style = \"font-weight: bold; text-align: right;\">32559</td><td style = \"text-align: right;\">38</td><td style = \"text-align: left;\">HS-grad</td></tr><tr><td class = \"rowNumber\" style = \"font-weight: bold; text-align: right;\">32560</td><td style = \"text-align: right;\">50</td><td style = \"text-align: left;\">Bachelors</td></tr><tr><td class = \"rowNumber\" style = \"font-weight: bold; text-align: right;\">32561</td><td style = \"text-align: right;\">39</td><td style = \"text-align: left;\">Bachelors</td></tr></tbody></table></div>"
      ],
      "text/latex": [
       "\\begin{tabular}{r|cc}\n",
       "\t& age & education:\\\\\n",
       "\t\\hline\n",
       "\t& Int64 & String15\\\\\n",
       "\t\\hline\n",
       "\t1 & 52 & HS-grad \\\\\n",
       "\t2 & 22 & HS-grad \\\\\n",
       "\t3 & 58 & HS-grad \\\\\n",
       "\t4 & 40 & HS-grad \\\\\n",
       "\t5 & 27 & Assoc-acdm \\\\\n",
       "\t6 & 22 & Some-college \\\\\n",
       "\t7 & 53 & Masters \\\\\n",
       "\t8 & 32 & Masters \\\\\n",
       "\t9 & 43 & Assoc-voc \\\\\n",
       "\t10 & 32 & 10th \\\\\n",
       "\t11 & 43 & Some-college \\\\\n",
       "\t12 & 43 & Some-college \\\\\n",
       "\t13 & 65 & Prof-school \\\\\n",
       "\t14 & 43 & HS-grad \\\\\n",
       "\t15 & 37 & Assoc-acdm \\\\\n",
       "\t16 & 39 & Assoc-acdm \\\\\n",
       "\t17 & 31 & Masters \\\\\n",
       "\t18 & 45 & Assoc-acdm \\\\\n",
       "\t19 & 72 & HS-grad \\\\\n",
       "\t20 & 41 & HS-grad \\\\\n",
       "\t21 & 45 & HS-grad \\\\\n",
       "\t22 & 71 & Doctorate \\\\\n",
       "\t23 & 38 & Bachelors \\\\\n",
       "\t24 & 30 & HS-grad \\\\\n",
       "\t25 & 34 & Bachelors \\\\\n",
       "\t26 & 22 & 12th \\\\\n",
       "\t27 & 37 & Some-college \\\\\n",
       "\t28 & 54 & Bachelors \\\\\n",
       "\t29 & 34 & Doctorate \\\\\n",
       "\t30 & 30 & Bachelors \\\\\n",
       "\t$\\dots$ & $\\dots$ & $\\dots$ \\\\\n",
       "\\end{tabular}\n"
      ],
      "text/plain": [
       "\u001b[1m32561×2 SubDataFrame\u001b[0m\n",
       "\u001b[1m   Row \u001b[0m│\u001b[1m age   \u001b[0m\u001b[1m education:   \u001b[0m\n",
       "       │\u001b[90m Int64 \u001b[0m\u001b[90m String15     \u001b[0m\n",
       "───────┼─────────────────────\n",
       "     1 │    52  HS-grad\n",
       "     2 │    22  HS-grad\n",
       "     3 │    58  HS-grad\n",
       "     4 │    40  HS-grad\n",
       "     5 │    27  Assoc-acdm\n",
       "     6 │    22  Some-college\n",
       "     7 │    53  Masters\n",
       "     8 │    32  Masters\n",
       "     9 │    43  Assoc-voc\n",
       "    10 │    32  10th\n",
       "    11 │    43  Some-college\n",
       "   ⋮   │   ⋮         ⋮\n",
       " 32552 │    42  Bachelors\n",
       " 32553 │    31  Masters\n",
       " 32554 │    52  HS-grad\n",
       " 32555 │    49  9th\n",
       " 32556 │    37  Masters\n",
       " 32557 │    28  Bachelors\n",
       " 32558 │    53  11th\n",
       " 32559 │    38  HS-grad\n",
       " 32560 │    50  Bachelors\n",
       " 32561 │    39  Bachelors\n",
       "\u001b[36m           32540 rows omitted\u001b[0m"
      ]
     },
     "execution_count": 59,
     "metadata": {},
     "output_type": "execute_result"
    }
   ],
   "source": [
    "@view df[end:-1:1, [1, 4]]"
   ]
  },
  {
   "cell_type": "code",
   "execution_count": 83,
   "id": "eac54dc9-80a6-4531-9208-fa3e828e75a6",
   "metadata": {},
   "outputs": [
    {
     "data": {
      "text/plain": [
       "dumb (generic function with 1 method)"
      ]
     },
     "execution_count": 83,
     "metadata": {},
     "output_type": "execute_result"
    }
   ],
   "source": [
    "function dumb(x)\n",
    "    print(x)\n",
    "    return x\n",
    "end"
   ]
  },
  {
   "cell_type": "code",
   "execution_count": null,
   "id": "f948e63f-c579-414a-8dba-4f6e4830f866",
   "metadata": {},
   "outputs": [],
   "source": [
    "dumb.(df[:,:age])"
   ]
  },
  {
   "cell_type": "code",
   "execution_count": null,
   "id": "b810ddcd-0c81-4705-a808-88c020aea762",
   "metadata": {},
   "outputs": [],
   "source": []
  }
 ],
 "metadata": {
  "kernelspec": {
   "display_name": "Julia 1.10.4",
   "language": "julia",
   "name": "julia-1.10"
  },
  "language_info": {
   "file_extension": ".jl",
   "mimetype": "application/julia",
   "name": "julia",
   "version": "1.10.5"
  }
 },
 "nbformat": 4,
 "nbformat_minor": 5
}
