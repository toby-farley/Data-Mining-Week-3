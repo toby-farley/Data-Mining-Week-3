{
 "cells": [
  {
   "cell_type": "code",
   "execution_count": 3,
   "id": "d5ce3311-e0cd-4c14-93f4-775d088c50d0",
   "metadata": {},
   "outputs": [],
   "source": [
    "import pl from \"npm:nodejs-polars\";\n",
    "import { display } from \"https://deno.land/x/display@v0.1.1/mod.ts\";\n",
    "\n",
    "let response = await fetch(\n",
    "    \"https://cdn.jsdeliver.net/npm/world-atlas@1/world/110m.tsm\",\n",
    ");\n",
    "let data = await response.text()"
   ]
  },
  {
   "cell_type": "code",
   "execution_count": 7,
   "id": "65462cce-a795-436e-8586-3b4931e9419b",
   "metadata": {},
   "outputs": [],
   "source": [
    "let df = pl.readCSV(data, {sep: \"\\t\"});"
   ]
  },
  {
   "cell_type": "code",
   "execution_count": 11,
   "id": "71ed608b-3845-4170-a4a2-898a9ff0d5ca",
   "metadata": {},
   "outputs": [
    {
     "ename": "TypeError",
     "evalue": "error sending request for url (https://github.com/DjDeveloperr/skia_canvas/releases/download/0.5.6/libnative_canvas.so): client error (Connect): invalid peer certificate: UnknownIssuer",
     "output_type": "error",
     "traceback": [
      "Stack trace:",
      "TypeError: error sending request for url (https://github.com/DjDeveloperr/skia_canvas/releases/download/0.5.6/libnative_canvas.so): client error (Connect): invalid peer certificate: UnknownIssuer",
      "    at async mainFetch (ext:deno_fetch/26_fetch.js:170:12)",
      "    at async fetch (ext:deno_fetch/26_fetch.js:392:7)",
      "    at async download (https://jsr.io/@denosaurs/plug/1.0.5/download.ts:280:26)",
      "    at async dlopen (https://jsr.io/@denosaurs/plug/1.0.5/mod.ts:155:25)",
      "    at async https://deno.land/x/skia_canvas@0.5.6/src/ffi.ts:966:10"
     ]
    }
   ],
   "source": [
    "import {\n",
    "    createCanvas,\n",
    "    Image,\n",
    "    Path2D,\n",
    "} from 'https://deno.land/x/skia_canvas/mod.ts';\n",
    "\n",
    "const canvas = createCanvas(400, 300)\n",
    "const ctx = getContext(\"2d\")\n",
    "\n",
    "df.toRecords().forEach((record,i) => {\n",
    "    const y = yScaleSorted(record.continent);\n",
    "    const width = xScaleSorted(record.total_pop_est)\n",
    "    const height = yScaleSorted.bandwidth()\n",
    "    ctx.fillStyle = width < xScaleSorted(max) ? \"#8787A7\" : \"#575787\"\n",
    "    ctx.fillRect(0, y, width, height)\n",
    "    cts.fillText(record.continent, width + 5, y + height / 2)\n",
    "});\n",
    "\n",
    "display(canvas)"
   ]
  },
  {
   "cell_type": "code",
   "execution_count": null,
   "id": "7a138d5d-26f5-4b89-a782-cdf2d7d71721",
   "metadata": {},
   "outputs": [],
   "source": []
  }
 ],
 "metadata": {
  "kernelspec": {
   "display_name": "Deno",
   "language": "typescript",
   "name": "deno"
  },
  "language_info": {
   "codemirror_mode": "typescript",
   "file_extension": ".ts",
   "mimetype": "text/x.typescript",
   "name": "typescript",
   "nbconvert_exporter": "script",
   "pygments_lexer": "typescript",
   "version": "5.5.2"
  }
 },
 "nbformat": 4,
 "nbformat_minor": 5
}
